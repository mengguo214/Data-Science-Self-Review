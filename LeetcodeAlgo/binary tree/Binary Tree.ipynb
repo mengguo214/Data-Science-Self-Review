{
 "cells": [
  {
   "cell_type": "markdown",
   "metadata": {},
   "source": [
    "## Define a Binary Tree"
   ]
  },
  {
   "cell_type": "markdown",
   "metadata": {},
   "source": [
    "a tree has not more than two children node "
   ]
  },
  {
   "cell_type": "code",
   "execution_count": 1,
   "metadata": {},
   "outputs": [],
   "source": [
    "class TreeNode(object):\n",
    "    def __inif__(self, value):\n",
    "        self.val = value\n",
    "        self.left, self.right = None, None"
   ]
  },
  {
   "cell_type": "markdown",
   "metadata": {},
   "source": [
    "### Tree Traverse\n",
    "\n",
    "the position of left children and right children is fixed\n",
    "\n",
    "* pre-order: root, left(sub_tree), right(sub_tree)\n",
    "* in-order: left(sub_tree), root, right(sub_tree)\n",
    "* post-order: left(sub_tree), right(sub_tree), root"
   ]
  },
  {
   "cell_type": "code",
   "execution_count": null,
   "metadata": {},
   "outputs": [],
   "source": [
    "class TreeNode(object):\n",
    "    def __inif__(self, value):\n",
    "        self.val = value\n",
    "        self.left, self.right = None, None\n",
    "    def preorder_traversal(self, root):\n",
    "        res = []\n",
    "        self.helper(root, res)\n",
    "        return res\n",
    "    def helper(self, root, res):\n",
    "        if not root:\n",
    "            return None\n",
    "        res.append(root.val)\n",
    "        self.helper(root.left, res)\n",
    "        self.helper(root.right, res)    \n",
    "\n",
    "#time: O(n)\n",
    "#space: O(h)"
   ]
  },
  {
   "cell_type": "code",
   "execution_count": 3,
   "metadata": {},
   "outputs": [],
   "source": [
    "class TreeNode(object):\n",
    "    def __init__(self, value):\n",
    "        self.val = value\n",
    "        self.left, self.right = None, None\n",
    "    def inorder_treaversal(self, root):\n",
    "        res = []\n",
    "        if not root:\n",
    "            return None\n",
    "        self.helper(root, res)\n",
    "        return res\n",
    "    def helper(self, root, res):\n",
    "        if not root:\n",
    "            return None\n",
    "        self.helper(root.left, res)\n",
    "        res.append(root.val)\n",
    "        self.helper(root.right, res)"
   ]
  },
  {
   "cell_type": "code",
   "execution_count": 4,
   "metadata": {},
   "outputs": [],
   "source": [
    "class TreeNode(object):\n",
    "    def __init__(self, value):\n",
    "        self.val = value\n",
    "        self.left, self.right = None, None\n",
    "    def inorder_treaversal(self, root):\n",
    "        res = []\n",
    "        if not root:\n",
    "            return None\n",
    "        self.helper(root, res)\n",
    "        return res\n",
    "    def helper(self, root, res):\n",
    "        if not root:\n",
    "            return None\n",
    "        self.helper(root.left, res)\n",
    "        self.helper(root.right, res)\n",
    "        res.append(root.val)\n",
    "        "
   ]
  },
  {
   "cell_type": "markdown",
   "metadata": {},
   "source": [
    "### Types of Tree"
   ]
  },
  {
   "cell_type": "markdown",
   "metadata": {},
   "source": [
    "1. Balanced Binary Tree: is commonly defined as a binary tree in which the depth of the left and right subtrees of *every node* differ by 1 or less, 每个节点的左右子树的深度差\n",
    "\n",
    "   深度： 从根节点到本节点走几步\n",
    "   \n",
    "   \n",
    "2. Complete Binary Tree: is a binary tree in which every level, except possibly the last, is completely filled, and all nodes are as far left as possible\n",
    "\n",
    "\n",
    "3. Binary Search Tree: for every single node in the tree, the values in its *left subtree* are all smaller than its value, and the values in its *right subtree* are all larger than its value.\n",
    "\n",
    "   空树也算是二叉搜索树。\n",
    "\n",
    "   左子树的所有节点小于root，右子树的所有节点大于root，且节点值不应重复；即左子树的最大节点小于root，右子树的最小节点大于root\n",
    "\n",
    "   按in-order traversal 可以得到ascending的"
   ]
  },
  {
   "cell_type": "markdown",
   "metadata": {},
   "source": [
    "#### (1) Get height of a binary tree: \n",
    "\n",
    "key：左右孩子的最大值加一"
   ]
  },
  {
   "cell_type": "code",
   "execution_count": null,
   "metadata": {},
   "outputs": [],
   "source": [
    "def get_height(root):\n",
    "    if not root:\n",
    "        return 0\n",
    "    left = get_height(root.left)\n",
    "    right = get_height(root.right)\n",
    "    return max(left, right) + 1\n",
    "    "
   ]
  },
  {
   "cell_type": "markdown",
   "metadata": {},
   "source": [
    "#### (2) Print the binary tree in the level order\n",
    "\n",
    "key：\n",
    "maintian two queues, first stores root, second stores children; remember to add board after each layer. 也可以只要一个队列"
   ]
  },
  {
   "cell_type": "code",
   "execution_count": 39,
   "metadata": {},
   "outputs": [],
   "source": [
    "node1 = TreeNode(10)\n",
    "node2 = TreeNode(5)\n",
    "node3 = TreeNode(15)\n",
    "node4 = TreeNode(2)\n",
    "node5 = TreeNode(7)\n",
    "node6 = TreeNode(12)\n",
    "node7 = TreeNode(10)\n",
    "node1.left = node2\n",
    "node1.right = node3\n",
    "node2.left = node4\n",
    "node2.right = node5\n",
    "node3.left = node6\n",
    "node3.right = node7"
   ]
  },
  {
   "cell_type": "code",
   "execution_count": 38,
   "metadata": {},
   "outputs": [],
   "source": [
    "def level(root):\n",
    "    q = [root]\n",
    "    child = []\n",
    "    print_content = []\n",
    "    while q:\n",
    "        head = q.pop(0)\n",
    "        if head.left:\n",
    "            child.append(head.left)\n",
    "        if head.right:\n",
    "            child.append(head.right)\n",
    "        print_content.append(head.val)\n",
    "        if not q:\n",
    "            print(print_content)\n",
    "            if child:\n",
    "                q = child\n",
    "                child = []\n",
    "                print_content = []        \n",
    "    "
   ]
  },
  {
   "cell_type": "code",
   "execution_count": 40,
   "metadata": {},
   "outputs": [
    {
     "name": "stdout",
     "output_type": "stream",
     "text": [
      "[10]\n",
      "[5, 15]\n",
      "[2, 7, 12, 10]\n"
     ]
    }
   ],
   "source": [
    "level(node1)"
   ]
  },
  {
   "cell_type": "markdown",
   "metadata": {},
   "source": [
    "#### (3) Given a binary tree where all the right nodes are either leaf nodes with a sibling(a left node that shares the same parent node) or empty, flip it upside down and turn it into a tree where the original right nodes turned into left leaf nodes. Return the new root."
   ]
  },
  {
   "cell_type": "code",
   "execution_count": 44,
   "metadata": {},
   "outputs": [],
   "source": [
    "def turn_down(root):\n",
    "    if not root:\n",
    "        return root\n",
    "    if not root.left and not root.right:\n",
    "        return root\n",
    "    new_root = turn_down(root.left)\n",
    "    root.left.left = root.right\n",
    "    root.left.right = root\n",
    "    root.left, root.right = None, None\n",
    "    return new_root\n",
    "    "
   ]
  },
  {
   "cell_type": "code",
   "execution_count": 45,
   "metadata": {},
   "outputs": [],
   "source": [
    "node1 = TreeNode(1)\n",
    "node2 = TreeNode(2)\n",
    "node3 = TreeNode(3)\n",
    "node4 = TreeNode(4)\n",
    "node5 = TreeNode(5)\n",
    "\n",
    "node1.left = node2\n",
    "node1.right = node3\n",
    "node2.left = node4\n",
    "node2.right = node5\n"
   ]
  },
  {
   "cell_type": "code",
   "execution_count": 46,
   "metadata": {},
   "outputs": [],
   "source": [
    "x = turn_down(node1)"
   ]
  },
  {
   "cell_type": "code",
   "execution_count": 47,
   "metadata": {},
   "outputs": [
    {
     "name": "stdout",
     "output_type": "stream",
     "text": [
      "[4]\n",
      "[5, 2]\n",
      "[3, 1]\n"
     ]
    }
   ],
   "source": [
    "level(x)"
   ]
  },
  {
   "cell_type": "markdown",
   "metadata": {},
   "source": [
    "### More Recursion on Tree"
   ]
  },
  {
   "cell_type": "markdown",
   "metadata": {},
   "source": [
    "#### (4) Get size of a binary tree"
   ]
  },
  {
   "cell_type": "code",
   "execution_count": null,
   "metadata": {},
   "outputs": [],
   "source": [
    "def get_size(root):\n",
    "    if not root:\n",
    "        return 0\n",
    "    left = get_size(root.left)\n",
    "    right = get_size(root.right)\n",
    "    return left + right + 1"
   ]
  },
  {
   "cell_type": "markdown",
   "metadata": {},
   "source": [
    "#### (5) For each node in a tree, store the number of nodes in its left child subtree"
   ]
  },
  {
   "cell_type": "code",
   "execution_count": null,
   "metadata": {},
   "outputs": [],
   "source": [
    "class TreeNode(object):\n",
    "    def __inif__(self, value):\n",
    "        self.val = value\n",
    "        self.left, self.right = None, None\n",
    "        self.total_left = 0\n",
    "\n",
    "def left_total(root):\n",
    "    if not root:\n",
    "        return 0\n",
    "    left = left_total(root.left)\n",
    "    right = left_total(root.right)\n",
    "    root.total_left = left\n",
    "    return left + right + 1\n",
    "    "
   ]
  },
  {
   "cell_type": "markdown",
   "metadata": {},
   "source": [
    "#### (6) Find the node with the max difference in the total number of descendants in its left subtree and right subtree."
   ]
  },
  {
   "cell_type": "code",
   "execution_count": null,
   "metadata": {},
   "outputs": [],
   "source": [
    "global_max = -1\n",
    "res = None\n",
    "\n",
    "def node_diff(root):\n",
    "    if not root:\n",
    "        return 0\n",
    "    left = left_total(root.left)\n",
    "    right = left_total(root.right)\n",
    "    diff = abs(left - right)\n",
    "    global global_max\n",
    "    global res\n",
    "    if diff > global_max:\n",
    "        global_max = diff\n",
    "        res = root\n",
    "    return left + right + 1\n",
    "\n",
    "def get_max_diff(root):\n",
    "    global global_max\n",
    "    global res\n",
    "    node_diff(root)\n",
    "    return res\n",
    "\n",
    "# 但使用global variable有一定问题，不同instance之间使用时需要重置\n",
    "# 利用class之中的function，可以保证每次函数运算指向的reference相同，且不同instance之间是独立的"
   ]
  },
  {
   "cell_type": "code",
   "execution_count": null,
   "metadata": {},
   "outputs": [],
   "source": [
    "class ResultWrapper(object):\n",
    "    def __init__(self):\n",
    "        self.glbal_max = -1\n",
    "        self.solution = None\n",
    "def node_diff(root, res):\n",
    "    if not root:\n",
    "        return 0\n",
    "    left = left_total(root.left, res)\n",
    "    right = left_total(root.right, res)\n",
    "    diff = abs(left - right)\n",
    "\n",
    "    if diff > res.global_max:\n",
    "        res.global_max  = diff\n",
    "        res.solution = root\n",
    "    return left + right + 1\n",
    "\n",
    "def get_max_diff(root):\n",
    "    global global_max\n",
    "    res = ResultWrapper()\n",
    "    node_diff(root, res)\n",
    "    return res.solution"
   ]
  },
  {
   "cell_type": "markdown",
   "metadata": {},
   "source": [
    "#### (7) Given a binary tree, find its minimum depth.\n",
    "\n",
    "The minimum depth is the number of nodes along the shortest path from the root node down to the nearest leaf node\n",
    "\n",
    "* when specify the leaf node, we need to think carefully how to choose base case - using leaf case if necessary"
   ]
  },
  {
   "cell_type": "code",
   "execution_count": null,
   "metadata": {},
   "outputs": [],
   "source": [
    "def get_height(root):\n",
    "    if root is None:\n",
    "        return 0\n",
    "    if root.left is None and root.right is None:\n",
    "        return 1\n",
    "    left = get_height(root.left) if root.left else float('inf')\n",
    "    right = get_height(root.right) if root.right else float('inf')\n",
    "    return min(left, right) + 1"
   ]
  }
 ],
 "metadata": {
  "kernelspec": {
   "display_name": "Python 3",
   "language": "python",
   "name": "python3"
  },
  "language_info": {
   "codemirror_mode": {
    "name": "ipython",
    "version": 3
   },
   "file_extension": ".py",
   "mimetype": "text/x-python",
   "name": "python",
   "nbconvert_exporter": "python",
   "pygments_lexer": "ipython3",
   "version": "3.7.4"
  }
 },
 "nbformat": 4,
 "nbformat_minor": 2
}
