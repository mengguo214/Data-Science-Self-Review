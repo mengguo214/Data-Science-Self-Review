{
 "cells": [
  {
   "cell_type": "markdown",
   "metadata": {},
   "source": [
    "## Binary Search Tree\n",
    "\n",
    "### Definition\n",
    "for every single node in the tree, the values in its *left subtree* are all smaller than its value, and the values in its *right subtree* are all larger than its value.\n",
    "\n",
    "   空树也算是二叉搜索树。\n",
    "\n",
    "   左子树的所有节点小于root，右子树的所有节点大于root，且节点值不应重复；即左子树的最大节点小于root，右子树的最小节点大于root\n",
    "\n",
    "   按in-order traversal 可以得到ascending的"
   ]
  },
  {
   "cell_type": "code",
   "execution_count": 5,
   "metadata": {},
   "outputs": [],
   "source": [
    "class TreeNode(object):\n",
    "    def __init__(self, value):\n",
    "        self.left, self.right = None, None\n",
    "        self.val = value\n",
    "        \n",
    "class BST(object):\n",
    "    def __init__(self):\n",
    "        self._root = None\n",
    "        \n",
    "def inorder_traverse(root):\n",
    "    res = []\n",
    "    traverse(root, res)\n",
    "    return res\n",
    "\n",
    "def traverse(root, res):\n",
    "    if not root:\n",
    "        return None\n",
    "    traverse(root.left, res)\n",
    "    res.append(root.val)\n",
    "    traverse(root.right, res)"
   ]
  },
  {
   "cell_type": "code",
   "execution_count": 70,
   "metadata": {},
   "outputs": [],
   "source": [
    "node1 = TreeNode(10)\n",
    "node2 = TreeNode(5)\n",
    "node3 = TreeNode(15)\n",
    "node4 = TreeNode(2)\n",
    "node5 = TreeNode(7)\n",
    "node6 = TreeNode(12)\n",
    "node7 = TreeNode(20)\n",
    "node1.left = node2\n",
    "node1.right = node3\n",
    "node2.left = node4\n",
    "node2.right = node5\n",
    "node3.left = node6  \n",
    "node3.right = node7"
   ]
  },
  {
   "cell_type": "code",
   "execution_count": 71,
   "metadata": {},
   "outputs": [
    {
     "data": {
      "text/plain": [
       "[2, 5, 7, 10, 12, 15, 20]"
      ]
     },
     "execution_count": 71,
     "metadata": {},
     "output_type": "execute_result"
    }
   ],
   "source": [
    "inorder_traverse(node1)"
   ]
  },
  {
   "cell_type": "markdown",
   "metadata": {},
   "source": [
    "#### (1) Given a binary tree, write a function to determine whether this tree is a binary search tree."
   ]
  },
  {
   "cell_type": "markdown",
   "metadata": {},
   "source": [
    "###### 方法一：  in order traverse所有数，检查是否ascending order \n",
    "\n",
    "time: O(n)\n",
    "\n",
    "space: O(height)"
   ]
  },
  {
   "cell_type": "code",
   "execution_count": 8,
   "metadata": {},
   "outputs": [],
   "source": [
    "# 迭代\n",
    "def is_BST(root):\n",
    "    lst = inorder_traverse(root)\n",
    "    return is_acsending(lst)\n",
    "def is_acsending(lst):\n",
    "    for i in range(len(lst)-1):\n",
    "        if lst[i] >= lst[i+1]:\n",
    "            return False\n",
    "    return True\n",
    "    "
   ]
  },
  {
   "cell_type": "code",
   "execution_count": 22,
   "metadata": {},
   "outputs": [
    {
     "data": {
      "text/plain": [
       "True"
      ]
     },
     "execution_count": 22,
     "metadata": {},
     "output_type": "execute_result"
    }
   ],
   "source": [
    "is_BST(node1)"
   ]
  },
  {
   "cell_type": "code",
   "execution_count": 10,
   "metadata": {},
   "outputs": [],
   "source": [
    "# 递归：save prev node and compare it with the next node:\n",
    "\n",
    "def is_bst(root):\n",
    "    if not root:\n",
    "        return True\n",
    "    prev = [None]\n",
    "    return isvalid(root, prev)"
   ]
  },
  {
   "cell_type": "code",
   "execution_count": 11,
   "metadata": {},
   "outputs": [],
   "source": [
    "def isvalid(root, prev):\n",
    "    if not root:\n",
    "        return True\n",
    "    if not isvalid(root.left, prev):\n",
    "        return False\n",
    "    if prev[0] and root.val <= prev[0]:\n",
    "        return False\n",
    "    prev[0] = root.val\n",
    "    return isvalid(root.right, prev)\n",
    "    "
   ]
  },
  {
   "cell_type": "code",
   "execution_count": 23,
   "metadata": {},
   "outputs": [
    {
     "data": {
      "text/plain": [
       "True"
      ]
     },
     "execution_count": 23,
     "metadata": {},
     "output_type": "execute_result"
    }
   ],
   "source": [
    "is_bst(node1)"
   ]
  },
  {
   "cell_type": "markdown",
   "metadata": {},
   "source": [
    "###### 方法二：  递归判断子树是否bst，条件：左子树最大值小于root，右子树最小大于root\n",
    "\n",
    "time: O(n)\n",
    "\n",
    "space: O(height)"
   ]
  },
  {
   "cell_type": "code",
   "execution_count": 13,
   "metadata": {},
   "outputs": [],
   "source": [
    "def isvalidbst(root):\n",
    "    return isbsthelper(root)[0]"
   ]
  },
  {
   "cell_type": "code",
   "execution_count": 16,
   "metadata": {},
   "outputs": [],
   "source": [
    "def isbsthelper(root):\n",
    "    if not root:\n",
    "        return (True, None, None)\n",
    "    left_res = isbsthelper(root.left)\n",
    "    right_res = isbsthelper(root.right)\n",
    "    if not left_res[0] or not right_res[0]:\n",
    "        return (False, None, None)\n",
    "    if left_res[2] and left_res[2] >= root.val:\n",
    "        return (False, None, None)\n",
    "    if right_res[1] and right_res[1] <= root.val:\n",
    "        return (False, None, None)\n",
    "    return (True, left_res[1] or root.val, right_res[2] or root.val)"
   ]
  },
  {
   "cell_type": "code",
   "execution_count": 21,
   "metadata": {},
   "outputs": [
    {
     "data": {
      "text/plain": [
       "True"
      ]
     },
     "execution_count": 21,
     "metadata": {},
     "output_type": "execute_result"
    }
   ],
   "source": [
    "isvalidbst(node1)"
   ]
  },
  {
   "cell_type": "markdown",
   "metadata": {},
   "source": [
    "### WHY BST?\n",
    "\n",
    "\n",
    "It is an implementation that combines the flexibility of inserting in a linkedlist and the efficiency of sesarching in an ordered array together. It can help preserve the order of all keys in it while dynamically perform insertion and deletion.\n",
    "\n",
    "由key找到对应的node"
   ]
  },
  {
   "cell_type": "markdown",
   "metadata": {},
   "source": [
    "#### implementations"
   ]
  },
  {
   "cell_type": "markdown",
   "metadata": {},
   "source": [
    "#### (1) How do we store those key value pairs internally?\n",
    "#### (2) Given a key, how do we find the corresponding value in a binary search tree?"
   ]
  },
  {
   "cell_type": "code",
   "execution_count": 25,
   "metadata": {},
   "outputs": [],
   "source": [
    "class _TreeNode(object):\n",
    "    def __init__(self, value, key):\n",
    "        self.left, self,right = None\n",
    "        self.val = value\n",
    "        self.key = key\n",
    "        \n",
    "class BST(object):\n",
    "    def __init__(self):\n",
    "        self._root = None\n",
    "    def _query(self, root, target):\n",
    "        if not root:\n",
    "            return None\n",
    "        if root.key == target:\n",
    "            return root.val\n",
    "        if root.key > target:\n",
    "            return self._query(self, root.left, target)\n",
    "        if root.key < target:\n",
    "            return self._query(self, root.right, target)\n",
    "    def query(self, key):\n",
    "        return self._query(self._root, key)\n"
   ]
  },
  {
   "cell_type": "markdown",
   "metadata": {},
   "source": [
    "##### practice 1 Given the root of a bst, find the node that contains the minimum value  (assuming a node of bst only contains value)"
   ]
  },
  {
   "cell_type": "code",
   "execution_count": 33,
   "metadata": {},
   "outputs": [],
   "source": [
    "def locate_mini(root):\n",
    "    if not root.left:\n",
    "        return root\n",
    "    return locate_mini(root.left)"
   ]
  },
  {
   "cell_type": "markdown",
   "metadata": {},
   "source": [
    "##### practice 2 Given the root of a bst and a target, find the first node containing a value that is larger our target value"
   ]
  },
  {
   "cell_type": "code",
   "execution_count": 45,
   "metadata": {},
   "outputs": [],
   "source": [
    "# def _locate_first(self, root, target):\n",
    "#     if not root or not target:\n",
    "#         return None\n",
    "#     mini = self._locate_mini(root)\n",
    "#     mini_key = mini.key\n",
    "#     while mini.val < target:\n",
    "#         mini_key += 1\n",
    "#         mini.val = self.query(mini_key)\n",
    "#     return mini.val\n",
    "# def locate_first(self, target):\n",
    "#     return self._locate_first(self._root, target)\n",
    "        \n",
    "    \n",
    "def locate_first(root, target):\n",
    "    if not root:\n",
    "        return None\n",
    "    if root.val == target:\n",
    "        return locate_mini(root.right)\n",
    "    elif root.val < target:\n",
    "        return locate_first(root.right, target)\n",
    "    else:\n",
    "        return locate_first(root.left, target) or root"
   ]
  },
  {
   "cell_type": "code",
   "execution_count": 56,
   "metadata": {},
   "outputs": [
    {
     "data": {
      "text/plain": [
       "5"
      ]
     },
     "execution_count": 56,
     "metadata": {},
     "output_type": "execute_result"
    }
   ],
   "source": [
    "locate_first(node1, 3).val"
   ]
  },
  {
   "cell_type": "markdown",
   "metadata": {},
   "source": [
    "##### practice 3 Given the root of a bst and a target, find the last node containing a value that is smaller our target value"
   ]
  },
  {
   "cell_type": "code",
   "execution_count": 57,
   "metadata": {},
   "outputs": [],
   "source": [
    "def locate_max(root):\n",
    "    if not root.right:\n",
    "        return root\n",
    "    return locate_max(root.right)"
   ]
  },
  {
   "cell_type": "code",
   "execution_count": 62,
   "metadata": {},
   "outputs": [],
   "source": [
    "def locate_last(root, target):\n",
    "    if not root:\n",
    "        return None\n",
    "    if root.val == target:\n",
    "        return locate_max(root.left)\n",
    "    elif root.val < target:\n",
    "        return locate_last(root.right, target) or root\n",
    "    else:\n",
    "        return locate_last(root.left, target) "
   ]
  },
  {
   "cell_type": "code",
   "execution_count": 64,
   "metadata": {},
   "outputs": [
    {
     "data": {
      "text/plain": [
       "2"
      ]
     },
     "execution_count": 64,
     "metadata": {},
     "output_type": "execute_result"
    }
   ],
   "source": [
    "locate_last(node1, 3).val"
   ]
  },
  {
   "cell_type": "markdown",
   "metadata": {},
   "source": [
    "#### (3) Given a key and an associated value, how do we insert them into the BST? "
   ]
  },
  {
   "cell_type": "code",
   "execution_count": null,
   "metadata": {},
   "outputs": [],
   "source": [
    "def _insert(self, root, key, value):\n",
    "    if not root:\n",
    "        return TreeNode(key, value)\n",
    "    if root.key > key:\n",
    "        root.left = self._insert(root.left, key, value)\n",
    "    elif root.key < key:\n",
    "        root.right = self._inser(root.right, key, value)\n",
    "    else:\n",
    "        root.val = value\n",
    "    return root\n",
    "def insert(self, key, value):\n",
    "    self._root =  self._insert(self._root, key, value)"
   ]
  },
  {
   "cell_type": "markdown",
   "metadata": {},
   "source": [
    "#### (4) Given a key, how do we delete the corresponding pair from the tree?"
   ]
  },
  {
   "cell_type": "markdown",
   "metadata": {},
   "source": [
    "*instead of deleting a random node, what should we do if we delete the minimum node?*"
   ]
  },
  {
   "cell_type": "code",
   "execution_count": 66,
   "metadata": {},
   "outputs": [],
   "source": [
    "def delete_mini(root):\n",
    "    second_mini = find_second_min(root)\n",
    "    second_mini.left = second_mini.left.right\n",
    "    return root\n",
    "def find_second_min(root):\n",
    "    if not root.left.left:\n",
    "        return root\n",
    "    return find_second_min(root.left)\n",
    "    "
   ]
  },
  {
   "cell_type": "code",
   "execution_count": 67,
   "metadata": {},
   "outputs": [
    {
     "data": {
      "text/plain": [
       "<__main__.TreeNode at 0x1052b6518>"
      ]
     },
     "execution_count": 67,
     "metadata": {},
     "output_type": "execute_result"
    }
   ],
   "source": [
    "delete_mini(node1)"
   ]
  },
  {
   "cell_type": "code",
   "execution_count": 73,
   "metadata": {},
   "outputs": [
    {
     "data": {
      "text/plain": [
       "[5, 7, 10, 12, 15, 20]"
      ]
     },
     "execution_count": 73,
     "metadata": {},
     "output_type": "execute_result"
    }
   ],
   "source": [
    "inorder_traverse(node1)"
   ]
  },
  {
   "cell_type": "code",
   "execution_count": 69,
   "metadata": {},
   "outputs": [],
   "source": [
    "# a more compile way\n",
    "def deleteMin(root):\n",
    "    if not root.left:\n",
    "        return root.right\n",
    "    root.left = deleteMin(root.left)\n",
    "    return root"
   ]
  },
  {
   "cell_type": "code",
   "execution_count": 76,
   "metadata": {},
   "outputs": [],
   "source": [
    "# 正式：\n",
    "def locate_mini(root):\n",
    "    if not root.left:\n",
    "        return root\n",
    "    return locate_mini(root.left)\n",
    "\n",
    "def deleteMin(root):\n",
    "    if not root.left:\n",
    "        return root.right\n",
    "    root.left = deleteMin(root.left)\n",
    "    return root\n",
    "\n",
    "def _delete_node(self, root, key):\n",
    "    if not root:\n",
    "        return None\n",
    "    if key < root.key:\n",
    "        root.left = self._delete_node(root.left, key)\n",
    "    elif key > root.key:\n",
    "        root.right = self._delete_node(root.right, key)\n",
    "    else:\n",
    "        if not root.right:\n",
    "            return root.left\n",
    "        if not root.left:\n",
    "            return root.right\n",
    "        t = root\n",
    "        root = locate_mini(root.right)\n",
    "        root.right = deleteMin(t.right)\n",
    "        root.left = t.left\n",
    "    return root\n",
    "def delte_node(self, key):\n",
    "    return self._delete_node(self._root, key)"
   ]
  },
  {
   "cell_type": "code",
   "execution_count": null,
   "metadata": {},
   "outputs": [],
   "source": []
  }
 ],
 "metadata": {
  "kernelspec": {
   "display_name": "Python 3",
   "language": "python",
   "name": "python3"
  },
  "language_info": {
   "codemirror_mode": {
    "name": "ipython",
    "version": 3
   },
   "file_extension": ".py",
   "mimetype": "text/x-python",
   "name": "python",
   "nbconvert_exporter": "python",
   "pygments_lexer": "ipython3",
   "version": "3.6.5"
  }
 },
 "nbformat": 4,
 "nbformat_minor": 2
}
