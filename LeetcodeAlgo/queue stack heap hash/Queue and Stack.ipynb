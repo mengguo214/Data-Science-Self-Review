{
 "cells": [
  {
   "cell_type": "markdown",
   "metadata": {},
   "source": [
    "## Define Queue - back by linked list"
   ]
  },
  {
   "cell_type": "markdown",
   "metadata": {},
   "source": [
    "first in first out"
   ]
  },
  {
   "cell_type": "code",
   "execution_count": 27,
   "metadata": {},
   "outputs": [],
   "source": [
    "class ListNode(object):\n",
    "    def __init__(self, value):\n",
    "        self.next = None\n",
    "        self.val = value\n",
    "        \n",
    "# backed by Linked List\n",
    "class Queue(object):\n",
    "    def __init__(self):\n",
    "        self.head, self.tail = None, None\n",
    "        self._size = 0\n",
    "\n",
    "    def __len__(self):\n",
    "        return self._size\n",
    "    \n",
    "    def empty(self):\n",
    "        return self._size == 0\n",
    "    \n",
    "    def enqueue(self, item):\n",
    "        if not self.empty():\n",
    "            self._tail.next = ListNode(item)\n",
    "            self._tail = self._tail.next      \n",
    "        else:\n",
    "            self._head = self._tail = ListNode(item)\n",
    "            \n",
    "        self._size += 1\n",
    "    \n",
    "    def dequeue(self):\n",
    "        if self.empty():\n",
    "            return None\n",
    "        value = self._head.val\n",
    "        self._head = self._head.next\n",
    "        if not self._head:\n",
    "            self._tail = None\n",
    "        self._size -= 1\n",
    "        return value\n",
    "\n",
    "    def front(self):\n",
    "        if self.empty():\n",
    "            return None\n",
    "        return self._head.val"
   ]
  },
  {
   "cell_type": "code",
   "execution_count": 30,
   "metadata": {},
   "outputs": [],
   "source": [
    "q = Queue()\n",
    "q.enqueue(1)"
   ]
  },
  {
   "cell_type": "code",
   "execution_count": 10,
   "metadata": {},
   "outputs": [
    {
     "data": {
      "text/plain": [
       "deque([2, 3])"
      ]
     },
     "execution_count": 10,
     "metadata": {},
     "output_type": "execute_result"
    }
   ],
   "source": [
    "from collections import deque\n",
    "d = deque()\n",
    "d.append(2)\n",
    "d.append(3)\n",
    "d"
   ]
  },
  {
   "cell_type": "code",
   "execution_count": 11,
   "metadata": {},
   "outputs": [
    {
     "data": {
      "text/plain": [
       "deque([1, 2, 3])"
      ]
     },
     "execution_count": 11,
     "metadata": {},
     "output_type": "execute_result"
    }
   ],
   "source": [
    "d.appendleft(1)\n",
    "d"
   ]
  },
  {
   "cell_type": "code",
   "execution_count": 12,
   "metadata": {},
   "outputs": [
    {
     "data": {
      "text/plain": [
       "deque([2, 3])"
      ]
     },
     "execution_count": 12,
     "metadata": {},
     "output_type": "execute_result"
    }
   ],
   "source": [
    "d.popleft()\n",
    "d"
   ]
  },
  {
   "cell_type": "code",
   "execution_count": 13,
   "metadata": {},
   "outputs": [
    {
     "data": {
      "text/plain": [
       "deque([2])"
      ]
     },
     "execution_count": 13,
     "metadata": {},
     "output_type": "execute_result"
    }
   ],
   "source": [
    "d.pop()\n",
    "d"
   ]
  },
  {
   "cell_type": "markdown",
   "metadata": {},
   "source": [
    "## Applying Queue"
   ]
  },
  {
   "cell_type": "markdown",
   "metadata": {},
   "source": [
    "Given a stream of integers and a window size, calculate the moving average of all integers in the sliding window."
   ]
  },
  {
   "cell_type": "code",
   "execution_count": 21,
   "metadata": {},
   "outputs": [],
   "source": [
    "from collections import deque\n",
    "class MovingAverage(object):\n",
    "    def __init__(self,size):\n",
    "        self._queue = deque()\n",
    "        self._size = size\n",
    "    def next_(self, value):\n",
    "        self._queue.append(value)\n",
    "        if len(self._queue) > self._size:\n",
    "            self._queue.popleft()\n",
    "        return sum(self._queue) / len(self._queue)"
   ]
  },
  {
   "cell_type": "code",
   "execution_count": 22,
   "metadata": {},
   "outputs": [
    {
     "data": {
      "text/plain": [
       "6.0"
      ]
     },
     "execution_count": 22,
     "metadata": {},
     "output_type": "execute_result"
    }
   ],
   "source": [
    "x = MovingAverage(3)\n",
    "x.next_(1)\n",
    "x.next_(10)\n",
    "x.next_(3)\n",
    "x.next_(5)"
   ]
  },
  {
   "cell_type": "markdown",
   "metadata": {},
   "source": [
    "write a function that returns the minimum in a queue"
   ]
  },
  {
   "cell_type": "code",
   "execution_count": 23,
   "metadata": {},
   "outputs": [],
   "source": [
    "class Queue(object):\n",
    "    def __init__(self):\n",
    "        self._head = self._tail = None\n",
    "        self._size = 0\n",
    "\n",
    "    def __len__(self):\n",
    "        return self._size\n",
    "    \n",
    "    def empty(self):\n",
    "        return self._size == 0\n",
    "    \n",
    "    def enqueue(self, item):\n",
    "        if not self.empty():\n",
    "            self._tail.next = ListNode(item)\n",
    "            self._tail = self._tail.next      \n",
    "        else:\n",
    "            self._head = self._tail = ListNode(item)\n",
    "            \n",
    "        self._size += 1\n",
    "    \n",
    "    def dequeue(self):\n",
    "        if self.empty():\n",
    "            return None\n",
    "        value = self._head.val\n",
    "        self._head = self._head.next\n",
    "        if not self._head:\n",
    "            self._tail = None\n",
    "        self._size -= 1\n",
    "        return value\n",
    "\n",
    "    def front(self):\n",
    "        if self.empty():\n",
    "            return None\n",
    "        return self._head.val\n",
    "    \n",
    "    def minimum(self):\n",
    "        if self.empty():\n",
    "            return None\n",
    "        curr = self._head\n",
    "        mini = curr.val\n",
    "        while curr:\n",
    "            if curr.val < mini:\n",
    "                mini = curr.val\n",
    "            curr = curr.next\n",
    "        return mini"
   ]
  },
  {
   "cell_type": "code",
   "execution_count": 25,
   "metadata": {},
   "outputs": [
    {
     "data": {
      "text/plain": [
       "-100"
      ]
     },
     "execution_count": 25,
     "metadata": {},
     "output_type": "execute_result"
    }
   ],
   "source": [
    "c = Queue()\n",
    "c.enqueue(-100)\n",
    "c.enqueue(10)\n",
    "c.enqueue(-1)\n",
    "c.minimum()"
   ]
  },
  {
   "cell_type": "markdown",
   "metadata": {},
   "source": [
    "What if O(1): needs to do indexing\n",
    "\n",
    "\n",
    "How?\n",
    "\n",
    "By directly storing the minimum when creating - use another queue!\n",
    "\n"
   ]
  },
  {
   "cell_type": "code",
   "execution_count": 26,
   "metadata": {},
   "outputs": [],
   "source": [
    "from collections import deque\n",
    "\n",
    "class Queue(object):\n",
    "    def __init__(self):\n",
    "        self._deque = deque()\n",
    "        self._mins = deque()\n",
    "    def __len__(self):\n",
    "        return len(self._deque)\n",
    "    def empty(self):\n",
    "        return len(self._deque) == 0\n",
    "    def enqueue(self, value):\n",
    "        self._deque.append(value)\n",
    "        while self._mins and self._mins[-1] > value:\n",
    "            self._mins.pop()\n",
    "        self._mins.append(value)\n",
    "    def dequeue(self):\n",
    "        value = self._deque.popleft()\n",
    "        if vslue == self._mins[0]:\n",
    "            self._mins.popleft()\n",
    "        return value\n",
    "    def min_(self):\n",
    "        return self._mins[0]\n",
    "    "
   ]
  },
  {
   "cell_type": "markdown",
   "metadata": {},
   "source": [
    "## Define Stack - back by list"
   ]
  },
  {
   "cell_type": "markdown",
   "metadata": {},
   "source": [
    "first in last out"
   ]
  },
  {
   "cell_type": "code",
   "execution_count": 31,
   "metadata": {},
   "outputs": [],
   "source": [
    "class Stack(object):\n",
    "    def __init__(self):\n",
    "        self._items = []\n",
    "    def __len__(self):\n",
    "        return len(self._items)\n",
    "    def empty(self):\n",
    "        return len(self._items) == 0\n",
    "    def push(self, item):\n",
    "        self._items.append(item)\n",
    "    def pop(self):\n",
    "        if self.empty():\n",
    "            return None\n",
    "        return self._items.pop()\n",
    "    def top(self):\n",
    "        if self.empty():\n",
    "            return None\n",
    "        return self._items[-1]"
   ]
  },
  {
   "cell_type": "markdown",
   "metadata": {},
   "source": [
    "## Applying Stack"
   ]
  },
  {
   "cell_type": "markdown",
   "metadata": {},
   "source": [
    "Given a string containing just the characters (){}[], determine if the input string is valid.\n",
    "\n",
    "The brackets must close in the correct order, () and () [] {} are all valid but [} ([)] are not valid"
   ]
  },
  {
   "cell_type": "code",
   "execution_count": 40,
   "metadata": {},
   "outputs": [
    {
     "data": {
      "text/plain": [
       "'['"
      ]
     },
     "execution_count": 40,
     "metadata": {},
     "output_type": "execute_result"
    }
   ],
   "source": [
    "match = {']':'[', ')':'(', '}':'{'}"
   ]
  },
  {
   "cell_type": "code",
   "execution_count": 49,
   "metadata": {},
   "outputs": [],
   "source": [
    "def is_valid(lst):\n",
    "    left = Stack()\n",
    "    for i in lst:\n",
    "        if i in match.values():\n",
    "            left.push(i)\n",
    "        if i in match.keys():\n",
    "            item = left.pop()\n",
    "            if item != match[i]:\n",
    "                return False\n",
    "    if left:\n",
    "        return False\n",
    "    return True      "
   ]
  },
  {
   "cell_type": "code",
   "execution_count": 52,
   "metadata": {},
   "outputs": [
    {
     "data": {
      "text/plain": [
       "False"
      ]
     },
     "execution_count": 52,
     "metadata": {},
     "output_type": "execute_result"
    }
   ],
   "source": [
    "is_valid(['(','(','(','(',')',')',')',']'])"
   ]
  },
  {
   "cell_type": "markdown",
   "metadata": {},
   "source": [
    "Arithmetic expression: is either a number, or a left parenthesis followed by the arithmetic expression followed by an operator followed by another arithmetic expression followed by a right parenthesis."
   ]
  },
  {
   "cell_type": "code",
   "execution_count": 54,
   "metadata": {},
   "outputs": [],
   "source": [
    "import operator \n",
    "def arith_val(terms):\n",
    "    operands = []\n",
    "    operators = []\n",
    "    ops = {'+': operator.add, '-': operator.sub, '*': operator.mul, '/': operator.truediv}\n",
    "    for term in terms:\n",
    "        if term == '(':\n",
    "            continue\n",
    "        elif term == ')':\n",
    "            left, right = operands.pop(), operands.pop()\n",
    "            operands.append(ops[operators.pop()](left, right))\n",
    "        elif term in ops.keys():\n",
    "            operands.append(term)\n",
    "        else:\n",
    "            operands.append(int(term))\n",
    "    return operands[0]"
   ]
  },
  {
   "cell_type": "code",
   "execution_count": null,
   "metadata": {},
   "outputs": [],
   "source": []
  }
 ],
 "metadata": {
  "kernelspec": {
   "display_name": "Python 3",
   "language": "python",
   "name": "python3"
  },
  "language_info": {
   "codemirror_mode": {
    "name": "ipython",
    "version": 3
   },
   "file_extension": ".py",
   "mimetype": "text/x-python",
   "name": "python",
   "nbconvert_exporter": "python",
   "pygments_lexer": "ipython3",
   "version": "3.6.5"
  }
 },
 "nbformat": 4,
 "nbformat_minor": 2
}
