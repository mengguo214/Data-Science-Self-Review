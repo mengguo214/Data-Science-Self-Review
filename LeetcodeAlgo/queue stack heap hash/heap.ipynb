{
 "cells": [
  {
   "cell_type": "markdown",
   "metadata": {},
   "source": [
    "## Definition of Heap\n",
    "\n",
    "heap is a complete binary tree : a binary tree in every level expect possibly the last one - 尽量左排\n",
    "\n",
    "\n",
    "heap basics:\n",
    "\n",
    "* min-heap : 每个node的val都比自己孩子节点小\n",
    "* max-heap : 每个node的val都比自己孩子节点大"
   ]
  },
  {
   "cell_type": "markdown",
   "metadata": {},
   "source": [
    "### 用array 实现 min-heap\n",
    "\n",
    "left_child_node_index = parent_node_index * 2 + 1\n",
    "\n",
    "\n",
    "right_child_node_index = parent_node_index * 2 + 2\n",
    "\n",
    "\n",
    "parent_node_index = (child_node_index - 1) / 2 取整"
   ]
  },
  {
   "cell_type": "code",
   "execution_count": 2,
   "metadata": {},
   "outputs": [],
   "source": [
    "class Heap(object):\n",
    "    def __init__(self):\n",
    "        self.array = []"
   ]
  },
  {
   "cell_type": "markdown",
   "metadata": {},
   "source": [
    "push"
   ]
  },
  {
   "cell_type": "code",
   "execution_count": 56,
   "metadata": {},
   "outputs": [],
   "source": [
    "# mine\n",
    "def sit_up(array, index):\n",
    "    parent_idx = int((index - 1) / 2)\n",
    "    if not index:\n",
    "        return None\n",
    "    if array[parent_idx] > array[index]:\n",
    "        array[parent_idx], array[index] = array[index], array[parent_idx]\n",
    "        sit_up(array, parent_idx)\n",
    "    #return array  "
   ]
  },
  {
   "cell_type": "code",
   "execution_count": 38,
   "metadata": {},
   "outputs": [],
   "source": [
    "# taught\n",
    "def sit_up(array, index):\n",
    "    parent_idx = int((index - 1) / 2)\n",
    "    if parent_idx < 0 or array[parent_idx] < array[index]:\n",
    "        return \n",
    "    \n",
    "    array[parent_idx], array[index] = array[index], array[parent_idx]\n",
    "    sit_up(array, parent_idx)"
   ]
  },
  {
   "cell_type": "code",
   "execution_count": 57,
   "metadata": {},
   "outputs": [],
   "source": [
    "array = [0,1,5,6,8,4,3,2]\n",
    "sit_up(array, 7)"
   ]
  },
  {
   "cell_type": "code",
   "execution_count": 58,
   "metadata": {},
   "outputs": [],
   "source": [
    "class Heap(object):\n",
    "    def __init__(self):\n",
    "        self.array = []\n",
    "    def push(self, value):\n",
    "        self.array.append(value)\n",
    "        sit_up(self.array, len(self.array)-1)\n",
    "    def get(self):\n",
    "        print(self.array)"
   ]
  },
  {
   "cell_type": "markdown",
   "metadata": {},
   "source": [
    "pop"
   ]
  },
  {
   "cell_type": "code",
   "execution_count": 128,
   "metadata": {},
   "outputs": [],
   "source": [
    "def pop_by_index(array, index):\n",
    "    if index == -1:\n",
    "        array.pop()\n",
    "        return None\n",
    "    if index < -1:\n",
    "        print('Error')\n",
    "        return None\n",
    "    left_idx = int(index * 2 + 1)\n",
    "    right_idx = int(index * 2 + 2)\n",
    "    if right_idx > len(array) - 1:\n",
    "        array[len(array) - 1], array[index] = array[index], array[len(array) - 1]\n",
    "        array.pop()\n",
    "        return None\n",
    "    if array[left_idx] < array[right_idx]:\n",
    "        array[left_idx], array[index] = array[index], array[left_idx]\n",
    "        pop_by_index(array, left_idx)\n",
    "    if array[left_idx] > array[right_idx]:\n",
    "        array[right_idx], array[index] = array[index], array[right_idx]\n",
    "        pop_by_index(array, right_idx)"
   ]
  },
  {
   "cell_type": "code",
   "execution_count": 129,
   "metadata": {},
   "outputs": [],
   "source": [
    "class Heap(object):\n",
    "    def __init__(self):\n",
    "        self.array = []\n",
    "    def push(self, value):\n",
    "        self.array.append(value)\n",
    "        sit_up(self.array, len(self.array)-1)\n",
    "    def get(self):\n",
    "        print(self.array)\n",
    "    def pop(self, index):\n",
    "        pop_by_index(self.array, index)"
   ]
  },
  {
   "cell_type": "code",
   "execution_count": 132,
   "metadata": {},
   "outputs": [
    {
     "name": "stdout",
     "output_type": "stream",
     "text": [
      "[0, 1, 6, 5, 9, 8]\n"
     ]
    }
   ],
   "source": [
    "a = Heap()\n",
    "a.push(0)\n",
    "a.push(1)\n",
    "a.push(6)\n",
    "a.push(5)\n",
    "a.push(9)\n",
    "a.push(8)\n",
    "a.get()"
   ]
  },
  {
   "cell_type": "code",
   "execution_count": 133,
   "metadata": {},
   "outputs": [
    {
     "name": "stdout",
     "output_type": "stream",
     "text": [
      "[1, 5, 6, 8, 9]\n"
     ]
    }
   ],
   "source": [
    "a.pop(0)\n",
    "a.get()"
   ]
  },
  {
   "cell_type": "markdown",
   "metadata": {},
   "source": [
    "remove the element at the top"
   ]
  },
  {
   "cell_type": "code",
   "execution_count": 160,
   "metadata": {},
   "outputs": [],
   "source": [
    "def sit_down(array, index):\n",
    "    left_idx = int(index * 2 + 1)\n",
    "    right_idx = int(index * 2 + 2)\n",
    "    small = index\n",
    "    if left_idx < len(array) and array[left_idx] < array[small]:\n",
    "        small = left_idx\n",
    "    if right_idx < len(array) and array[right_idx] < array[small]:\n",
    "        small = right_idx\n",
    "    if small != index:\n",
    "        array[small], array[index] = array[index], array[small]\n",
    "        sit_down(array, small)"
   ]
  },
  {
   "cell_type": "markdown",
   "metadata": {},
   "source": [
    "initialize a heap from a random array"
   ]
  },
  {
   "cell_type": "code",
   "execution_count": 161,
   "metadata": {},
   "outputs": [],
   "source": [
    "def build_heap(array):\n",
    "    for i in range(int(len(array)/2 - 1), -1, -1):\n",
    "        sit_down(array, i)"
   ]
  },
  {
   "cell_type": "code",
   "execution_count": 162,
   "metadata": {},
   "outputs": [],
   "source": [
    "array = [6,9,1,0,5,8]\n",
    "build_heap(array)"
   ]
  },
  {
   "cell_type": "code",
   "execution_count": 163,
   "metadata": {},
   "outputs": [
    {
     "data": {
      "text/plain": [
       "[0, 5, 1, 9, 6, 8]"
      ]
     },
     "execution_count": 163,
     "metadata": {},
     "output_type": "execute_result"
    }
   ],
   "source": [
    "array"
   ]
  },
  {
   "cell_type": "markdown",
   "metadata": {},
   "source": [
    "### Implementation"
   ]
  },
  {
   "cell_type": "code",
   "execution_count": 164,
   "metadata": {},
   "outputs": [],
   "source": [
    "import heapq"
   ]
  },
  {
   "cell_type": "code",
   "execution_count": 177,
   "metadata": {},
   "outputs": [
    {
     "name": "stdout",
     "output_type": "stream",
     "text": [
      "[1, 2, 3]\n",
      "1\n",
      "None\n",
      "[4, 6, 5]\n",
      "[4, 6, 5]\n"
     ]
    }
   ],
   "source": [
    "heap = []\n",
    "heapq.heappush(heap, 1)\n",
    "heapq.heappush(heap, 2)\n",
    "heapq.heappush(heap, 3)\n",
    "print(heap)\n",
    "print(heapq.heappop(heap))\n",
    "b = [6,4,5]\n",
    "a = heapq.heapify(b)\n",
    "print(a) #改变的是原本\n",
    "a = b\n",
    "print(a)"
   ]
  },
  {
   "cell_type": "markdown",
   "metadata": {},
   "source": [
    "- Q1. Find smallest k elements from an unsorted array of size n\n",
    "\n",
    "solution 1: min-heap\n",
    "\n",
    "heapify all elements and pop k times O(n + k*logn)"
   ]
  },
  {
   "cell_type": "code",
   "execution_count": 180,
   "metadata": {},
   "outputs": [],
   "source": [
    "import heapq\n",
    "\n",
    "def kSmallest(array, k):\n",
    "    if not array:\n",
    "        return []\n",
    "    res = []\n",
    "    heapq.heapify(array)\n",
    "    for i in range(min(k, len(array))):\n",
    "        res.append(heapq.heappop(array))\n",
    "    return res"
   ]
  },
  {
   "cell_type": "code",
   "execution_count": 182,
   "metadata": {},
   "outputs": [
    {
     "data": {
      "text/plain": [
       "[1, 2, 3]"
      ]
     },
     "execution_count": 182,
     "metadata": {},
     "output_type": "execute_result"
    }
   ],
   "source": [
    "kSmallest([3,2,1,6,4,8], 3)"
   ]
  },
  {
   "cell_type": "markdown",
   "metadata": {},
   "source": [
    "solution 2: max heap of size k -> smallest k candidates"
   ]
  },
  {
   "cell_type": "code",
   "execution_count": 193,
   "metadata": {},
   "outputs": [],
   "source": [
    "def kkSmallest(array, k):\n",
    "    if not array:\n",
    "        return []\n",
    "    if k >= len(array):\n",
    "        return array\n",
    "    res = [-elem for elem in array[:k]]\n",
    "    heapq.heapify(res)\n",
    "    for i in range(k,len(array)):\n",
    "        if array[i] < -res[0]:\n",
    "            heapq.heappop(res)\n",
    "            heapq.heappush(res, -array[i])\n",
    "    res = [-elem for elem in res]\n",
    "    heapq.heapify(res)\n",
    "    return res"
   ]
  },
  {
   "cell_type": "code",
   "execution_count": 196,
   "metadata": {},
   "outputs": [
    {
     "data": {
      "text/plain": [
       "[1, 1, 2]"
      ]
     },
     "execution_count": 196,
     "metadata": {},
     "output_type": "execute_result"
    }
   ],
   "source": [
    "kkSmallest([3,2,1,1,6,4,8], 3)"
   ]
  },
  {
   "cell_type": "markdown",
   "metadata": {},
   "source": [
    "- Q2. Merge K sorted array"
   ]
  },
  {
   "cell_type": "code",
   "execution_count": 201,
   "metadata": {},
   "outputs": [],
   "source": [
    "def MergeK(array):\n",
    "    if not array:\n",
    "        return []\n",
    "    k = len(array)\n",
    "    heap = []\n",
    "    for i in range(len(array)):\n",
    "        if len(array[i]):\n",
    "            heap.append((array[i][0], i, 0))\n",
    "    heapq.heapify(heap)\n",
    "    result = []\n",
    "    while heap:\n",
    "        val, index_array, index = heapq.heappop(heap)\n",
    "        result.append(val)\n",
    "        if index+1 < len(array[index_array]):\n",
    "            heapq.heappush(heap, (array[index_array][index+1], index_array, index+1) )\n",
    "    return result"
   ]
  },
  {
   "cell_type": "code",
   "execution_count": 202,
   "metadata": {},
   "outputs": [
    {
     "data": {
      "text/plain": [
       "[1, 2, 3, 3, 4, 5, 6, 7, 9]"
      ]
     },
     "execution_count": 202,
     "metadata": {},
     "output_type": "execute_result"
    }
   ],
   "source": [
    "array = [[1,5,7], [2,3,4], [3,6,9]]\n",
    "MergeK(array)"
   ]
  }
 ],
 "metadata": {
  "kernelspec": {
   "display_name": "Python 3",
   "language": "python",
   "name": "python3"
  },
  "language_info": {
   "codemirror_mode": {
    "name": "ipython",
    "version": 3
   },
   "file_extension": ".py",
   "mimetype": "text/x-python",
   "name": "python",
   "nbconvert_exporter": "python",
   "pygments_lexer": "ipython3",
   "version": "3.6.5"
  }
 },
 "nbformat": 4,
 "nbformat_minor": 2
}
