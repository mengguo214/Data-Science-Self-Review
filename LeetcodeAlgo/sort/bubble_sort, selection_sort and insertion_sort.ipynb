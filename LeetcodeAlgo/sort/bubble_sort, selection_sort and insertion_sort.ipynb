{
 "cells": [
  {
   "cell_type": "code",
   "execution_count": 191,
   "metadata": {},
   "outputs": [],
   "source": [
    "l = [3,6,4,2,11,10,5,123,12,145,13]"
   ]
  },
  {
   "cell_type": "code",
   "execution_count": 117,
   "metadata": {},
   "outputs": [
    {
     "data": {
      "text/plain": [
       "[3, 4, 2, 6, 10, 5, 11, 12, 123, 13, 145]"
      ]
     },
     "execution_count": 117,
     "metadata": {},
     "output_type": "execute_result"
    }
   ],
   "source": [
    "# 要完成每次少找一个， 这其实可算作selection sort的一部分\n",
    "def find_big(l):\n",
    "    i = 0\n",
    "    bigger = l[i]\n",
    "    while i < len(l)-1:\n",
    "        if bigger < l[i+1]:\n",
    "            bigger = l[i+1]\n",
    "        if bigger > l[i+1]:\n",
    "            l[i], l[i+1] = l[i+1], bigger\n",
    "        i = i+1\n",
    "    return l\n",
    "\n",
    "find_big(l)"
   ]
  },
  {
   "cell_type": "code",
   "execution_count": 119,
   "metadata": {},
   "outputs": [],
   "source": [
    "# 正确解法\n",
    "def bubble_sort(l):\n",
    "    for n in range(len(l)-1, 0, -1):\n",
    "        for j in range(n):\n",
    "            if l[j] > l[j+1]:\n",
    "                l[j], l[j+1] = l[j+1], l[j]"
   ]
  },
  {
   "cell_type": "code",
   "execution_count": null,
   "metadata": {},
   "outputs": [],
   "source": [
    "def selection_sort(l):\n",
    "    for n in range(len(l)-1, 0, -1):\n",
    "        big_idx = 0\n",
    "        for j in range(n):\n",
    "            if l[j] > l[big_idx]:\n",
    "                big_idx = j\n",
    "        l[big_idx], l[n] = l[n], l[big_idx]\n",
    "            \n",
    "            \n",
    "        "
   ]
  },
  {
   "cell_type": "code",
   "execution_count": 159,
   "metadata": {},
   "outputs": [],
   "source": [
    "def selection_sort(l):\n",
    "    for n in range(len(l)-1, 0, -1):\n",
    "        bigger = 0\n",
    "        for j in range(n+1):\n",
    "            if l[bigger] < l[j]:\n",
    "                bigger = j\n",
    "        l[n], l[bigger] = l[bigger], l[n]"
   ]
  },
  {
   "cell_type": "code",
   "execution_count": 170,
   "metadata": {},
   "outputs": [],
   "source": [
    "def insert(lst, n):\n",
    "    idx = len(lst) - 1\n",
    "    lst.append(n)\n",
    "    while idx >= 0:\n",
    "        if n < lst[idx]:\n",
    "            lst[idx], lst[idx + 1] = n, lst[idx]\n",
    "        idx = idx - 1\n",
    "    print(lst)"
   ]
  },
  {
   "cell_type": "code",
   "execution_count": 171,
   "metadata": {},
   "outputs": [
    {
     "name": "stdout",
     "output_type": "stream",
     "text": [
      "[1, 3, 5, 6]\n"
     ]
    }
   ],
   "source": [
    "insert([1,5,6], 3)"
   ]
  },
  {
   "cell_type": "code",
   "execution_count": 172,
   "metadata": {},
   "outputs": [],
   "source": [
    "def insert_sort(lst):\n",
    "    array = [lst[0]]\n",
    "    for i in lst[1:]:\n",
    "        insert(array, i)\n",
    "        "
   ]
  },
  {
   "cell_type": "code",
   "execution_count": 173,
   "metadata": {},
   "outputs": [
    {
     "name": "stdout",
     "output_type": "stream",
     "text": [
      "[3, 6]\n",
      "[3, 4, 6]\n",
      "[2, 3, 4, 6]\n",
      "[2, 3, 4, 6, 11]\n",
      "[2, 3, 4, 6, 10, 11]\n",
      "[2, 3, 4, 5, 6, 10, 11]\n",
      "[2, 3, 4, 5, 6, 10, 11, 123]\n",
      "[2, 3, 4, 5, 6, 10, 11, 12, 123]\n",
      "[2, 3, 4, 5, 6, 10, 11, 12, 123, 145]\n",
      "[2, 3, 4, 5, 6, 10, 11, 12, 13, 123, 145]\n"
     ]
    }
   ],
   "source": [
    "insert_sort(l)"
   ]
  },
  {
   "cell_type": "code",
   "execution_count": 189,
   "metadata": {},
   "outputs": [],
   "source": [
    "def insert_binary(lst, n):\n",
    "    idx = len(lst) - 1\n",
    "    position = binary(lst, n)\n",
    "    lst.append(n)\n",
    "    while idx > position:\n",
    "        lst[idx], lst[idx + 1] = n, lst[idx]\n",
    "        idx = idx - 1\n",
    "    return lst"
   ]
  },
  {
   "cell_type": "code",
   "execution_count": 179,
   "metadata": {},
   "outputs": [],
   "source": [
    "def binary(array, target):\n",
    "    left = 0\n",
    "    right = len(array) - 1\n",
    "    while left < right - 1:\n",
    "        mid = int((left + right) / 2)\n",
    "        if array[mid] < target:\n",
    "            left = mid\n",
    "        elif array[mid] > target:\n",
    "            right = mid\n",
    "        else:\n",
    "            return mid\n",
    "    return left"
   ]
  },
  {
   "cell_type": "code",
   "execution_count": null,
   "metadata": {},
   "outputs": [],
   "source": [
    "def insert_sort(lst):\n",
    "    array = [lst[0]]\n",
    "    for i in lst[1:]:\n",
    "        insert_binary(array, i)"
   ]
  },
  {
   "cell_type": "code",
   "execution_count": 192,
   "metadata": {},
   "outputs": [
    {
     "name": "stdout",
     "output_type": "stream",
     "text": [
      "[3, 6]\n",
      "[3, 4, 6]\n",
      "[2, 3, 4, 6]\n",
      "[2, 3, 4, 6, 11]\n",
      "[2, 3, 4, 6, 10, 11]\n",
      "[2, 3, 4, 5, 6, 10, 11]\n",
      "[2, 3, 4, 5, 6, 10, 11, 123]\n",
      "[2, 3, 4, 5, 6, 10, 11, 12, 123]\n",
      "[2, 3, 4, 5, 6, 10, 11, 12, 123, 145]\n",
      "[2, 3, 4, 5, 6, 10, 11, 12, 13, 123, 145]\n"
     ]
    }
   ],
   "source": [
    "insert_sort(l)"
   ]
  }
 ],
 "metadata": {
  "kernelspec": {
   "display_name": "Python 3",
   "language": "python",
   "name": "python3"
  },
  "language_info": {
   "codemirror_mode": {
    "name": "ipython",
    "version": 3
   },
   "file_extension": ".py",
   "mimetype": "text/x-python",
   "name": "python",
   "nbconvert_exporter": "python",
   "pygments_lexer": "ipython3",
   "version": "3.6.5"
  }
 },
 "nbformat": 4,
 "nbformat_minor": 2
}
