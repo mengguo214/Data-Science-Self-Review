{
 "cells": [
  {
   "cell_type": "code",
   "execution_count": 46,
   "metadata": {},
   "outputs": [],
   "source": [
    "def merge(array1, array2):\n",
    "    i = j = 0\n",
    "    result = []\n",
    "    while i < len(array1) and j < len(array2):\n",
    "        if array1[i] > array2[j]:\n",
    "            result.append(array2[j])\n",
    "            j = j + 1\n",
    "        else:\n",
    "            result.append(array1[i])\n",
    "            i = i + 1\n",
    "    while i < len(array1):\n",
    "        result.append(array1[i])\n",
    "        i = i + 1\n",
    "    \n",
    "    while j < len(array2):\n",
    "        result.append(array2[j])\n",
    "        j = j + 1\n",
    "    return result\n",
    "            "
   ]
  },
  {
   "cell_type": "code",
   "execution_count": 47,
   "metadata": {},
   "outputs": [
    {
     "data": {
      "text/plain": [
       "[1, 2, 5, 9, 33, 99, 100]"
      ]
     },
     "execution_count": 47,
     "metadata": {},
     "output_type": "execute_result"
    }
   ],
   "source": [
    "merge([1,2,33,99], [5,9,100])"
   ]
  },
  {
   "cell_type": "code",
   "execution_count": 48,
   "metadata": {},
   "outputs": [],
   "source": [
    "def merge_sort(array):\n",
    "    if len(array) == 0 or len(array) == 1:\n",
    "        return array\n",
    "    middle = int(len(array) / 2)\n",
    "    left = merge_sort(array[:middle])\n",
    "    right = merge_sort(array[middle:])\n",
    "    return merge(left, right)"
   ]
  },
  {
   "cell_type": "code",
   "execution_count": 49,
   "metadata": {},
   "outputs": [
    {
     "data": {
      "text/plain": [
       "[1, 2, 3, 5, 99]"
      ]
     },
     "execution_count": 49,
     "metadata": {},
     "output_type": "execute_result"
    }
   ],
   "source": [
    "merge_sort([3,2,1,5,99])"
   ]
  },
  {
   "cell_type": "code",
   "execution_count": 56,
   "metadata": {},
   "outputs": [],
   "source": [
    "def mergeSort(array):\n",
    "    \"\"\"\n",
    "    input: int[] array\n",
    "    return: int[]\n",
    "    \"\"\"\n",
    "    # write your solution here\n",
    "    def merge(array1, array2):\n",
    "        i = j = 0\n",
    "        result = []\n",
    "        while i < len(array1) and j < len(array2):\n",
    "            if array1[i] < array2[j]:\n",
    "                result.append(array1[i])\n",
    "                i = i + 1\n",
    "            else:\n",
    "                result.append(array2[j])\n",
    "                j = j + 1\n",
    "        while i < len(array1):\n",
    "            result.append(array1[i])\n",
    "            i = i + 1\n",
    "        while j < len(array2):\n",
    "            result.append(array2[j])\n",
    "            j = j + 1\n",
    "        return result\n",
    "    \n",
    "    if len(array) == 0 or len(array) == 1:\n",
    "          return array\n",
    "    \n",
    "    middle = int(len(array) / 2)\n",
    "    left = mergeSort(array[:middle])\n",
    "    right = mergeSort(array[middle:])\n",
    "    \n",
    "    return merge(left, right)\n",
    "\n"
   ]
  },
  {
   "cell_type": "code",
   "execution_count": 58,
   "metadata": {},
   "outputs": [
    {
     "data": {
      "text/plain": [
       "[1, 2, 2, 4, 5, 13]"
      ]
     },
     "execution_count": 58,
     "metadata": {},
     "output_type": "execute_result"
    }
   ],
   "source": [
    "mergeSort([1,2,13,2,4,5])"
   ]
  },
  {
   "cell_type": "code",
   "execution_count": 59,
   "metadata": {},
   "outputs": [],
   "source": [
    "def partition(lst, start, end, pivot_index):\n",
    "    pivot = lst[pivot_index]\n",
    "    lst[pivot_index], lst[end] = lst[end], lst[pivot_index]\n",
    "    store_index = 0\n",
    "    \n",
    "    for i in range(len(lst)):\n",
    "        if lst[i] < pivot:\n",
    "            lst[i], lst[store_index] = lst[store_index], lst[i]\n",
    "            store_index = store_index + 1\n",
    "    lst[store_index], lst[end] = lst[end], lst[store_index]   \n",
    "    return store_index\n"
   ]
  },
  {
   "cell_type": "code",
   "execution_count": 88,
   "metadata": {},
   "outputs": [],
   "source": [
    "lst = [2,1,5,3,4]\n",
    "#partition(lst, 0, len(lst)-1, 2)"
   ]
  },
  {
   "cell_type": "code",
   "execution_count": 72,
   "metadata": {},
   "outputs": [
    {
     "data": {
      "text/plain": [
       "[1, 2, 5, 4, 3]"
      ]
     },
     "execution_count": 72,
     "metadata": {},
     "output_type": "execute_result"
    }
   ],
   "source": [
    "lst"
   ]
  },
  {
   "cell_type": "code",
   "execution_count": 84,
   "metadata": {},
   "outputs": [],
   "source": [
    "def quick_sort(array, start, end):\n",
    "    if start >= end:\n",
    "        return \n",
    "    pivot_index = partition(array, start, end, int((start+end)/2))\n",
    "    \n",
    "    quick_sort(array, start, pivot_index-1)\n",
    "    quick_sort(array, pivot_index+1, end)\n",
    "    return array"
   ]
  },
  {
   "cell_type": "code",
   "execution_count": 85,
   "metadata": {},
   "outputs": [
    {
     "data": {
      "text/plain": [
       "[1, 2, 3, 4, 5]"
      ]
     },
     "execution_count": 85,
     "metadata": {},
     "output_type": "execute_result"
    }
   ],
   "source": [
    "quick_sort(lst, 0, len(lst)-1)"
   ]
  },
  {
   "cell_type": "code",
   "execution_count": 87,
   "metadata": {},
   "outputs": [],
   "source": [
    "def quickSort(array):\n",
    "    \"\"\"\n",
    "    input: int[] array\n",
    "    return: int[]\n",
    "    \"\"\"\n",
    "    # write your solution here\n",
    "    def partition(lst, pivot_index):\n",
    "        pivot = lst[pivot_index]\n",
    "        end = len(lst) - 1\n",
    "        start = 0\n",
    "        lst[pivot_index], lst[end] = lst[end], lst[pivot_index]\n",
    "        store_index = 0\n",
    "    \n",
    "        for i in range(len(lst)):\n",
    "            if lst[i] < pivot:\n",
    "                lst[i], lst[store_index] = lst[store_index], lst[i]\n",
    "                store_index = store_index + 1\n",
    "                lst[store_index], lst[end] = lst[end], lst[store_index]   \n",
    "        return store_index\n",
    "  \n",
    "    start = 0\n",
    "    end = len(array)-1\n",
    "    \n",
    "    if len(array) == 0 or len(array) == 1:\n",
    "        return \n",
    "      \n",
    "    pivot_index = partition(array, int(len(array)/2))\n",
    "    print(pivot_index)\n",
    "    print()\n",
    "    quickSort(array[:pivot_index-1])\n",
    "    quickSort(array[pivot_index+1:end])\n",
    "    return array"
   ]
  },
  {
   "cell_type": "code",
   "execution_count": 89,
   "metadata": {},
   "outputs": [
    {
     "name": "stdout",
     "output_type": "stream",
     "text": [
      "4\n",
      "2\n"
     ]
    },
    {
     "data": {
      "text/plain": [
       "[2, 4, 3, 1, 5]"
      ]
     },
     "execution_count": 89,
     "metadata": {},
     "output_type": "execute_result"
    }
   ],
   "source": [
    "quickSort(lst)"
   ]
  },
  {
   "cell_type": "code",
   "execution_count": null,
   "metadata": {},
   "outputs": [],
   "source": []
  }
 ],
 "metadata": {
  "kernelspec": {
   "display_name": "Python 3",
   "language": "python",
   "name": "python3"
  },
  "language_info": {
   "codemirror_mode": {
    "name": "ipython",
    "version": 3
   },
   "file_extension": ".py",
   "mimetype": "text/x-python",
   "name": "python",
   "nbconvert_exporter": "python",
   "pygments_lexer": "ipython3",
   "version": "3.6.5"
  }
 },
 "nbformat": 4,
 "nbformat_minor": 2
}
