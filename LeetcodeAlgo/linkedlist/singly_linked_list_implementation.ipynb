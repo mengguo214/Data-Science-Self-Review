{
 "cells": [
  {
   "cell_type": "code",
   "execution_count": 3,
   "metadata": {},
   "outputs": [],
   "source": [
    "class ListNode(object):\n",
    "    def __init__(self, value):\n",
    "        self.val = value\n",
    "        self.next = None\n"
   ]
  },
  {
   "cell_type": "code",
   "execution_count": 4,
   "metadata": {},
   "outputs": [],
   "source": [
    "node1 = ListNode('H')"
   ]
  },
  {
   "cell_type": "code",
   "execution_count": 79,
   "metadata": {},
   "outputs": [],
   "source": [
    "class LinkedList(object):\n",
    "    def __init__(self):\n",
    "        self._head = None\n",
    "        self._tail = None\n",
    "        self._size = 0\n",
    "        \n",
    "    def _get(self, index):\n",
    "        curr = self._head\n",
    "        for i in range(index):\n",
    "            curr = curr.next\n",
    "            if curr is None:\n",
    "                return None\n",
    "        return curr\n",
    "    \n",
    "    def add_at_head(self, val):\n",
    "        if self._size == 0:\n",
    "            self._head = self._tail = ListNode(val)\n",
    "        if val is None:\n",
    "            return \n",
    "        new_head = ListNode(val)\n",
    "        new_head.next = self._head\n",
    "        self._head = new_head\n",
    "        self._size += 1\n",
    "        print(self)\n",
    "        \n",
    "    def add_at_tail(self, val):\n",
    "        if self._size == 0:\n",
    "            self._head = self._tail = ListNode(val)\n",
    "        if val is None:\n",
    "            return \n",
    "        new_tail = ListNode(val)\n",
    "        self._tail.next = new_tail\n",
    "        self._tail = new_tail\n",
    "        self._size += 1\n",
    "        print(self)\n",
    "        \n",
    "    def add_at_index(self, index, val):\n",
    "        if index < 0 or index > self._size:\n",
    "            return\n",
    "        if index == 0:\n",
    "            self.add_at_head(val)\n",
    "        elif index == self._size:\n",
    "            self.add_at_tail(val)\n",
    "        else:\n",
    "            node = ListNode(val)\n",
    "            previous = self._get(index-1)\n",
    "            node.next = previous.next\n",
    "            previous.next = node\n",
    "            self._size += 1\n",
    "        print(self)\n",
    "        \n",
    "    def delete_at_index(self, index):\n",
    "        if index < 0 or index > self._size:\n",
    "            return\n",
    "        if index == 0:\n",
    "            new_head = self._head.next\n",
    "            self._head.next = None\n",
    "            self._head = new_head\n",
    "            self._size -= 1\n",
    "            if not self._head:\n",
    "                self._tail = None\n",
    "        else:\n",
    "            previous = self._get(index-1)\n",
    "            remove = previous.next\n",
    "            previous.next = remove.next\n",
    "            remove.next = None\n",
    "            if index == self._size - 1:\n",
    "                self._tail = previous\n",
    "            self._size -= 1\n",
    "        print(self)\n",
    "            \n",
    "    def __str__(self):\n",
    "        strs = []\n",
    "        node = self._head\n",
    "        while node is not None:\n",
    "            strs.append(str(node.val))\n",
    "            node = node.next\n",
    "        return '->'.join(strs)"
   ]
  },
  {
   "cell_type": "code",
   "execution_count": 80,
   "metadata": {},
   "outputs": [],
   "source": [
    "linked = LinkedList()\n",
    "node1 = ListNode('H')\n",
    "node2 = ListNode('E')\n",
    "node3 = ListNode('A')\n",
    "node4 = ListNode('P')\n",
    "node1.next = node2\n",
    "node2.next = node3\n",
    "node3.next = node4"
   ]
  },
  {
   "cell_type": "code",
   "execution_count": 81,
   "metadata": {},
   "outputs": [],
   "source": [
    "linked._head = node1\n",
    "linked._tail = node4\n",
    "linked._size = 4"
   ]
  },
  {
   "cell_type": "code",
   "execution_count": 82,
   "metadata": {},
   "outputs": [
    {
     "name": "stdout",
     "output_type": "stream",
     "text": [
      "H->E->A->P->a\n"
     ]
    }
   ],
   "source": [
    "linked.add_at_tail('a')"
   ]
  },
  {
   "cell_type": "code",
   "execution_count": 83,
   "metadata": {},
   "outputs": [
    {
     "name": "stdout",
     "output_type": "stream",
     "text": [
      "H->E->x->A->P->a\n"
     ]
    }
   ],
   "source": [
    "linked.add_at_index(2,'x')"
   ]
  },
  {
   "cell_type": "code",
   "execution_count": 84,
   "metadata": {},
   "outputs": [
    {
     "name": "stdout",
     "output_type": "stream",
     "text": [
      "E->x->A->P->a\n"
     ]
    }
   ],
   "source": [
    "linked.delete_at_index(0)"
   ]
  }
 ],
 "metadata": {
  "kernelspec": {
   "display_name": "Python 3",
   "language": "python",
   "name": "python3"
  },
  "language_info": {
   "codemirror_mode": {
    "name": "ipython",
    "version": 3
   },
   "file_extension": ".py",
   "mimetype": "text/x-python",
   "name": "python",
   "nbconvert_exporter": "python",
   "pygments_lexer": "ipython3",
   "version": "3.6.5"
  }
 },
 "nbformat": 4,
 "nbformat_minor": 2
}
