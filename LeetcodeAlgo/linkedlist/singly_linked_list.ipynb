{
 "cells": [
  {
   "cell_type": "code",
   "execution_count": 192,
   "metadata": {},
   "outputs": [],
   "source": [
    "class ListNode(object):\n",
    "    def __init__(self, value):\n",
    "        self.next = None\n",
    "        self.val = value\n",
    "    def __eq__(self, other):\n",
    "        return isinstance(other, ListNode) and self.val == other.val"
   ]
  },
  {
   "cell_type": "code",
   "execution_count": 193,
   "metadata": {},
   "outputs": [],
   "source": [
    "node1 = ListNode('H')\n",
    "node2 = ListNode('E')\n",
    "node1.next = node2"
   ]
  },
  {
   "cell_type": "code",
   "execution_count": 194,
   "metadata": {},
   "outputs": [],
   "source": [
    "# Traverse\n",
    "def print_node(head):\n",
    "    curr = head\n",
    "    while curr is not None:\n",
    "        print(curr.val)\n",
    "        curr = curr.next"
   ]
  },
  {
   "cell_type": "code",
   "execution_count": 180,
   "metadata": {},
   "outputs": [],
   "source": [
    "# Search\n",
    "# Search by index\n",
    "# given a singly linked list and an index, return the node you found, otherwise return None\n",
    "\n",
    "# def search_by_index(head, index):\n",
    "#     curr = head\n",
    "#     count = 0\n",
    "#     while count != index:\n",
    "#         curr = curr.next\n",
    "#         count += 1\n",
    "#         if not curr:\n",
    "#             return None\n",
    "#     return curr.val\n",
    "\n",
    "def search_by_index(head, index):\n",
    "    if head is None or index < 0:\n",
    "        return None\n",
    "    for move_times in range(index):\n",
    "        head = head.next\n",
    "        if not head:\n",
    "            return None\n",
    "    return head"
   ]
  },
  {
   "cell_type": "code",
   "execution_count": 181,
   "metadata": {},
   "outputs": [],
   "source": [
    "# Search by index\n",
    "\n",
    "# 一直寻找直到value找到，break：无curr\n",
    "# def search_by_value(head, value):\n",
    "#     if head is None or value is None:\n",
    "#         return None\n",
    "#     curr = head\n",
    "#     index = 0\n",
    "#     while curr.val != value:\n",
    "#         curr = curr.next\n",
    "#         index += 1\n",
    "#         if not curr:\n",
    "#             return None\n",
    "#     return index    \n",
    "\n",
    "def search_by_value(head, value):\n",
    "#一直寻找直到无curr，break：value找到\n",
    "    if not head:\n",
    "        return None\n",
    "    curr = head\n",
    "    index = 0\n",
    "    while curr is not None:\n",
    "        if curr.val == value:\n",
    "            return curr\n",
    "        curr = curr.next\n",
    "    return None"
   ]
  },
  {
   "cell_type": "code",
   "execution_count": 182,
   "metadata": {},
   "outputs": [],
   "source": [
    "# Add\n",
    "\n",
    "# add to index: add the new node to the specific position\n",
    "# 需要注意把值先换成listnode，替换新头时的情况，超过原本index时不作为，正常替换的情况\n",
    "# def add_to_index(head, index, value):\n",
    "#     value = ListNode(value)\n",
    "#     curr = head\n",
    "#     if index == 0:\n",
    "#         head = value\n",
    "#         head.next = curr\n",
    "#     else:\n",
    "#         for i in range(index-1):\n",
    "#             curr = curr.next\n",
    "#             if not curr:\n",
    "#                 return head\n",
    "#         next_value = curr.next\n",
    "#         curr.next = value\n",
    "#         value.next = next_value\n",
    "    \n",
    "#     return head\n",
    "\n",
    "\n",
    "# 方法一：区别：调用之前的函数，找到前一位\n",
    "# def add_to_index(head, index, value):\n",
    "#     if index == 0:\n",
    "#         new_head = ListNode(value)\n",
    "#         new_head.next = head\n",
    "#         return new_head\n",
    "#     else:\n",
    "#         prevNode = search_by_index(head, index-1)\n",
    "#         if prevNode is None:\n",
    "#             return head\n",
    "#         new_node = ListNode(value)\n",
    "#         new_node.next = prevNode.next\n",
    "#         prevNode.next = new_node\n",
    "\n",
    "#     return head\n",
    "\n",
    "\n",
    "# 方法二，安装假头，便不用考虑换头问题\n",
    "\n",
    "def add_to_index(head, index, value):\n",
    "    fake_head = ListNode(None)\n",
    "    fake_head.next = head\n",
    "    \n",
    "    prevNode = search_by_index(fake_head, index)\n",
    "    if prevNode is None:\n",
    "        return fake_head.next\n",
    "    new_node = ListNode(value)\n",
    "    new_node.next = prevNode.next\n",
    "    prevNode.next = new_node\n",
    "    \n",
    "    return fake_head.next\n",
    "    "
   ]
  },
  {
   "cell_type": "code",
   "execution_count": 183,
   "metadata": {},
   "outputs": [],
   "source": [
    "# Remove\n",
    "# 方法一\n",
    "# def remove_from_index(head, index):\n",
    "#     if index == 0:\n",
    "#         return head.next\n",
    "#     else:\n",
    "#         prevNode = search_by_index(head, index-1)\n",
    "#         if prevNode is None:\n",
    "#             return head\n",
    "#         remove_node = prevNode.next\n",
    "#         prevNode.next = remove_node.next\n",
    "#         return head\n",
    "    \n",
    "# 方法二：fake head\n",
    "\n",
    "def remove_from_index(head, index):\n",
    "    fake_head = ListNode(None)\n",
    "    fake_head.next = head\n",
    "    prevNode = search_by_index(fake_head, index)\n",
    "    if prevNode is None or prevNode.next is None:\n",
    "        return fake_head.next\n",
    "    remove_node = prevNode.next\n",
    "    prevNode.next = remove_node.next\n",
    "    return fake_head.next"
   ]
  },
  {
   "cell_type": "code",
   "execution_count": 184,
   "metadata": {},
   "outputs": [],
   "source": [
    "def get_sum(n):\n",
    "    if n == 1:\n",
    "        return 1\n",
    "    return get_sum(n-1) + n"
   ]
  },
  {
   "cell_type": "code",
   "execution_count": 185,
   "metadata": {},
   "outputs": [],
   "source": [
    "def print_recurse(head):\n",
    "    if not head:\n",
    "        return\n",
    "    print(head)\n",
    "    print_recurse(head.next)"
   ]
  },
  {
   "cell_type": "code",
   "execution_count": 195,
   "metadata": {},
   "outputs": [],
   "source": [
    "# reverse\n",
    "\n",
    "def reverse(head):\n",
    "    if not head or head.next is None:\n",
    "        return head\n",
    "    new_head = reverse(head.next)\n",
    "    head.next.next = head\n",
    "    head.next = None\n",
    "    return new_head"
   ]
  },
  {
   "cell_type": "code",
   "execution_count": 196,
   "metadata": {},
   "outputs": [],
   "source": [
    "x = reverse(node1)"
   ]
  },
  {
   "cell_type": "code",
   "execution_count": 197,
   "metadata": {},
   "outputs": [
    {
     "name": "stdout",
     "output_type": "stream",
     "text": [
      "E\n",
      "H\n"
     ]
    }
   ],
   "source": [
    "print_node(x)"
   ]
  },
  {
   "cell_type": "code",
   "execution_count": null,
   "metadata": {},
   "outputs": [],
   "source": []
  }
 ],
 "metadata": {
  "kernelspec": {
   "display_name": "Python 3",
   "language": "python",
   "name": "python3"
  },
  "language_info": {
   "codemirror_mode": {
    "name": "ipython",
    "version": 3
   },
   "file_extension": ".py",
   "mimetype": "text/x-python",
   "name": "python",
   "nbconvert_exporter": "python",
   "pygments_lexer": "ipython3",
   "version": "3.6.5"
  }
 },
 "nbformat": 4,
 "nbformat_minor": 2
}
