{
 "cells": [
  {
   "cell_type": "code",
   "execution_count": 69,
   "metadata": {},
   "outputs": [],
   "source": [
    "def binary_search(l, target):\n",
    "    if not l:\n",
    "        return None\n",
    "    left = 0\n",
    "    right = len(l)-1\n",
    "    while left <= right:\n",
    "        mid = int((left + right) / 2) # 不用担心溢出问题\n",
    "        if l[mid] == target:\n",
    "            return mid\n",
    "        elif l[mid] < target:\n",
    "            left = mid+1  # 可以确认mid已经不是\n",
    "        elif l[mid] > target:\n",
    "            right = mid-1\n",
    "\n",
    "    return None\n",
    "        \n",
    "        "
   ]
  },
  {
   "cell_type": "code",
   "execution_count": 112,
   "metadata": {},
   "outputs": [],
   "source": [
    "def binary_2d(matrix, target):\n",
    "    if not matrix:\n",
    "        return None\n",
    "    n, m = len(matrix), len(matrix[0])\n",
    "    new = []\n",
    "    for i in range(len(matrix)):\n",
    "        new.extend(matrix[i])\n",
    "    left = 0\n",
    "    right = len(new)-1\n",
    "    while left <= right:\n",
    "        mid = int((left + right) / 2) # 不用担心溢出问题\n",
    "        if new[mid] == target:\n",
    "            return (int(mid/m), mid%m)\n",
    "        elif new[mid] < target:\n",
    "            left = mid+1  # 可以确认mid已经不是\n",
    "        elif new[mid] > target:\n",
    "            right = mid-1\n",
    "    "
   ]
  },
  {
   "cell_type": "code",
   "execution_count": 137,
   "metadata": {},
   "outputs": [],
   "source": [
    "def binary_search_first(l, target):\n",
    "    if not l:\n",
    "        return None\n",
    "    left = 0\n",
    "    right = len(l)-1\n",
    "    while left < right-1:\n",
    "        mid = int((left + right) / 2) # 不用担心溢出问题\n",
    "        if l[mid] < target:\n",
    "            left = mid  # 可以确认mid已经不是\n",
    "        elif l[mid] >= target:\n",
    "            right = mid\n",
    "        print(left,right,mid)\n",
    "    if l[left] == target:\n",
    "        return left\n",
    "    if l[right] == target:\n",
    "        return right\n",
    " \n",
    "    return None\n",
    "        "
   ]
  },
  {
   "cell_type": "code",
   "execution_count": 45,
   "metadata": {},
   "outputs": [],
   "source": [
    "def binary_search_total(l, target):\n",
    "    if not l or not target:\n",
    "        return None\n",
    "    left, right = 0, len(l)-1\n",
    "    while left < right-1:\n",
    "        mid = int((left + right) / 2)\n",
    "        if l[mid] < target:\n",
    "            left = mid\n",
    "        elif l[mid] >= target:\n",
    "            right = mid\n",
    "    left_left, left_right = left, right\n",
    "    \n",
    "    left, right = 0, len(l)-1\n",
    "    while left < right-1:\n",
    "        mid = int((left + right) / 2)\n",
    "        if l[mid] <= target:\n",
    "            left = mid\n",
    "        elif l[mid] > target:\n",
    "            right = mid\n",
    "    right_left, right_right = left, right\n",
    "\n",
    "    \n",
    "    if l[left_left] == target:\n",
    "        left = left_left\n",
    "    elif l[left_right] == target:\n",
    "        left = left_right   \n",
    "    if l[right_right] == target:\n",
    "        right = right_right\n",
    "    elif l[right_left] == target:\n",
    "        right = right_left\n",
    "    if l[left] != target:\n",
    "        return 0\n",
    "    else:\n",
    "        return(right+1-left)\n",
    "    "
   ]
  },
  {
   "cell_type": "code",
   "execution_count": 143,
   "metadata": {},
   "outputs": [],
   "source": [
    "def binary_search_closest(l, target):\n",
    "    if not l:\n",
    "        return None\n",
    "    left = 0\n",
    "    right = len(l)-1\n",
    "    while left < right-1:\n",
    "        mid = int((left + right) / 2) # 不用担心溢出问题\n",
    "        if l[mid] < target:\n",
    "            left = mid  # 可以确认mid已经不是\n",
    "        elif l[mid] > target:\n",
    "            right = mid\n",
    "        else:\n",
    "            return mid\n",
    "\n",
    "\n",
    "    return left if abs(l[left] - target) < abs(l[right] - target) else right"
   ]
  },
  {
   "cell_type": "code",
   "execution_count": 179,
   "metadata": {},
   "outputs": [],
   "source": [
    "def kClosest(array, target, k):\n",
    "    \"\"\"\n",
    "    input: int[] array, int target, int k\n",
    "    return: int[]\n",
    "    \"\"\"\n",
    "    # write your solution here\n",
    "    if not array or len(array) == 0 or k ==0:\n",
    "        return []\n",
    "    left = 0\n",
    "    right = len(array)-1\n",
    "    \n",
    "    if k == 1:\n",
    "        while left < right-1:\n",
    "            mid = int((left + right) / 2) # 不用担心溢出问题\n",
    "            if array[mid] == target:\n",
    "                return [array[mid]]\n",
    "            elif array[mid] < target:\n",
    "                left = mid\n",
    "            elif array[mid] > target:\n",
    "                right = mid\n",
    "\n",
    "        return [array[left]] if abs(array[left] - target) < abs(array[right] - target) else [array[right]]\n",
    "    \n",
    "    else:\n",
    "        while left < right-k:\n",
    "            mid = int((left + right) / 2) # 不用担心溢出问题\n",
    "            if array[mid] < target:\n",
    "                left = mid  # 可以确认mid已经不是\n",
    "            elif array[mid] > target:\n",
    "                right = mid\n",
    "            else:\n",
    "                return array[mid]\n",
    "            \n",
    "        new_array = array[left:right+1]\n",
    "        return new_array if abs(array[left] - target) < abs(array[right] - target) else new_array[::-1]\n",
    "\n",
    "\n",
    "\n",
    "\n"
   ]
  },
  {
   "cell_type": "code",
   "execution_count": 180,
   "metadata": {},
   "outputs": [
    {
     "data": {
      "text/plain": [
       "[5, 1]"
      ]
     },
     "execution_count": 180,
     "metadata": {},
     "output_type": "execute_result"
    }
   ],
   "source": [
    "kClosest([1,5], 10, 2)"
   ]
  },
  {
   "cell_type": "code",
   "execution_count": 166,
   "metadata": {},
   "outputs": [],
   "source": [
    "l = [0,1,2,3,4,5,6,7,8,9]\n"
   ]
  },
  {
   "cell_type": "code",
   "execution_count": 167,
   "metadata": {},
   "outputs": [
    {
     "data": {
      "text/plain": [
       "[5, 4, 3, 2]"
      ]
     },
     "execution_count": 167,
     "metadata": {},
     "output_type": "execute_result"
    }
   ],
   "source": [
    "l[5:1:-1]"
   ]
  },
  {
   "cell_type": "code",
   "execution_count": 48,
   "metadata": {},
   "outputs": [
    {
     "name": "stdout",
     "output_type": "stream",
     "text": [
      "1\n",
      "2\n",
      "3\n",
      "4\n",
      "5\n"
     ]
    }
   ],
   "source": [
    "D = {1,2,3,4,5}"
   ]
  },
  {
   "cell_type": "code",
   "execution_count": 51,
   "metadata": {},
   "outputs": [],
   "source": [
    "def func(dic,target):\n",
    "    idx = 0\n",
    "    for content in dic:\n",
    "        if content == target:\n",
    "            return idx\n",
    "        idx += 1\n",
    "    if content != target:\n",
    "        return -1"
   ]
  },
  {
   "cell_type": "code",
   "execution_count": 54,
   "metadata": {},
   "outputs": [
    {
     "data": {
      "text/plain": [
       "-1"
      ]
     },
     "execution_count": 54,
     "metadata": {},
     "output_type": "execute_result"
    }
   ],
   "source": [
    "func(D, 9)"
   ]
  },
  {
   "cell_type": "code",
   "execution_count": 55,
   "metadata": {},
   "outputs": [
    {
     "ename": "AttributeError",
     "evalue": "'set' object has no attribute 'get'",
     "output_type": "error",
     "traceback": [
      "\u001b[0;31m---------------------------------------------------------------------------\u001b[0m",
      "\u001b[0;31mAttributeError\u001b[0m                            Traceback (most recent call last)",
      "\u001b[0;32m<ipython-input-55-ddae159ac04f>\u001b[0m in \u001b[0;36m<module>\u001b[0;34m()\u001b[0m\n\u001b[0;32m----> 1\u001b[0;31m \u001b[0mD\u001b[0m\u001b[0;34m.\u001b[0m\u001b[0mget\u001b[0m\u001b[0;34m(\u001b[0m\u001b[0;36m1\u001b[0m\u001b[0;34m)\u001b[0m\u001b[0;34m\u001b[0m\u001b[0m\n\u001b[0m",
      "\u001b[0;31mAttributeError\u001b[0m: 'set' object has no attribute 'get'"
     ]
    }
   ],
   "source": [
    "D.get(1)"
   ]
  },
  {
   "cell_type": "code",
   "execution_count": null,
   "metadata": {},
   "outputs": [],
   "source": []
  }
 ],
 "metadata": {
  "kernelspec": {
   "display_name": "Python 3",
   "language": "python",
   "name": "python3"
  },
  "language_info": {
   "codemirror_mode": {
    "name": "ipython",
    "version": 3
   },
   "file_extension": ".py",
   "mimetype": "text/x-python",
   "name": "python",
   "nbconvert_exporter": "python",
   "pygments_lexer": "ipython3",
   "version": "3.6.5"
  }
 },
 "nbformat": 4,
 "nbformat_minor": 2
}
