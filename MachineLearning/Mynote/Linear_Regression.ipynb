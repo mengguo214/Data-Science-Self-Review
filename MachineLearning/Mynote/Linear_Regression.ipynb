{
 "cells": [
  {
   "cell_type": "markdown",
   "metadata": {},
   "source": [
    "# Linear Regression\n",
    "\n",
    "## Maximum Likelihood Estimation \n",
    "\n",
    "Maximum Likelihood Estimation (MLE) is a method of estimating the parameters of a distribution by maximizing a likelihood function, so that under the assumed statistical model the observed data is most probable. \n",
    "Finding the parameter values that maximize the likelihood of making the observations given the parameters.\n",
    "\n",
    "\n",
    "**Assumption for Linear Regression - Gaussian Noise Distribution** \n",
    "\n",
    "1. The distribution of $X$ is arbitrary \n",
    "2. If $\\overrightarrow X$ and $\\overrightarrow \\beta$ , then $Y = \\overrightarrow \\beta * \\overrightarrow X + \\epsilon$\n",
    "3. $\\epsilon \\sim Normal (0, \\sigma ^2)$\n",
    "4. $\\epsilon$ is independent across observations\n",
    "5. $Y$ is independent across observations give $X_i$\n",
    "6. Then ($Y$ given X) $\\sim Normal ( {\\hat {\\beta}\\overrightarrow X_i}, \\sigma ^2)$\n",
    "\n",
    "\n"
   ]
  },
  {
   "cell_type": "markdown",
   "metadata": {},
   "source": [
    "**Probability Density Function for Normal Distribution**\n",
    "\n",
    "$$P(x_i\\mid \\mu,\\sigma^2)={\\frac {1}{\\sqrt {2\\pi \\sigma ^{2}}}}e^{-{\\frac {(x_i-\\mu )^{2}}{2\\sigma ^{2}}}}$$\n",
    "\n",
    "** Bayes's Theorem **\n",
    "\n",
    "$$ P(\\theta \\mid X)={\\frac {P(X \\mid \\theta)P(\\theta)}{P(X)}}\\cdot $$\n",
    "\n",
    "where likelihood funtion is $P(X \\mid \\theta)$ and prior distribution is $p(\\theta )$\n",
    "\n",
    "** For a Dataset, if independence holds **\n",
    "\n",
    "$$ L = P(Y_i \\mid \\overrightarrow X) = P(Y_1,Y_2,...Y_n  \\mid \\overrightarrow X) = P(Y_1\\mid x_1)P(Y_2 \\mid x_2)P(Y_3\\mid x_3)...P(Y_n\\mid x_n) = \\prod_{i=1} ^n P(Y_i \\mid x_i) $$\n",
    "\n",
    "substitute for normal PDF\n",
    "\n",
    "$$ L = \\frac{1}{\\sigma ^n(2\\pi)^{\\frac{n}{2}}} e^{-\\frac{1}{2\\sigma^2}\\sum_{i=1}^n(\\overrightarrow {\\beta}\\overrightarrow X_i)}$$\n",
    "\n",
    "$$ \\ln(L) = -n\\ln(\\sqrt {2\\pi} \\sigma) - \\frac{1}{2\\sigma^2}\\sum_{i=1}^n(Y_i- \\overrightarrow {\\beta}\\overrightarrow X_i)^2$$\n",
    "\n",
    "In order to maximize $\\ln(L)$:\n",
    "\n",
    "$$argmax_\\beta[- \\sum_{i=1}^n(Y_i- \\overrightarrow {\\beta}\\overrightarrow X_i)^2]$$\n",
    "\n",
    "Thus, $argmin_\\beta[\\sum_{i=1}^n(Y_i-\\overrightarrow {\\beta}\\overrightarrow X_i)^2]$\n",
    "\n",
    "*which is also the squared error*\n",
    "\n",
    "In order to find the optima, we can set the first derivative equals to zero, find the weights, and then check the sign using second derivative\n",
    "\n"
   ]
  },
  {
   "cell_type": "markdown",
   "metadata": {},
   "source": [
    "## Mean Squared Error and Vectorized Optimization\n",
    "\n",
    "Similarily as MLE methods, we want to optimize parameters to have lowest mean squared error.\n",
    "\n",
    "Let's try a vectorized optimization:\n",
    "\n",
    "$$ E_{in}(\\overrightarrow \\beta)=\\frac{1}{n}\\sum_{i=1}^n(\\overrightarrow {\\beta}^T \\overrightarrow {x_i} - Y_i)^2 = \\frac{1}{n}\\sum_{i=1}^n(\\overrightarrow {x_i}^T \\overrightarrow {\\beta} - Y_i)^2 = \\frac{1}{n}\\mid\\mid X\\overrightarrow \\beta - \\overrightarrow Y \\mid \\mid ^2$$\n",
    "\n",
    "$$ since \\mid \\mid \\overrightarrow Z \\mid\\mid = \\sqrt{\\sum_{i=1}^d z_i^2} = \\sqrt{\\overrightarrow Z^T \\overrightarrow Z}$$\n",
    "\n",
    "$$ E_{in}(\\overrightarrow \\beta)= \\frac{1}{n}(X\\overrightarrow \\beta - \\overrightarrow Y)^T(X\\overrightarrow \\beta - \\overrightarrow Y)$$\n",
    "\n",
    "$$ \\Delta_\\beta E_{in}(\\overrightarrow \\beta^*) = \\frac{1}{n}(2X^TX\\overrightarrow \\beta^* - 2X^T\\overrightarrow Y) = 0$$\n",
    "\n",
    "$$\\overrightarrow \\beta^* = (X^TX)^{-1}X^T\\overrightarrow Y$$\n",
    "\n",
    "*when the number of parameter << the dataset, we can assume X is transferable*\n",
    "\n",
    "\n",
    "### One Covariate\n",
    "\n",
    "$$ Y = \\overrightarrow \\beta_0 + \\overrightarrow \\beta_1 * X$$\n",
    "\n",
    "$$cov(X, Y) = E((X - E(X)(Y - E(Y))) = E(XY) - \\mu_X \\mu_Y = \\frac{1}{N}(X-\\bar X)^T(Y-\\bar Y)$$\n",
    "$$\\rho_{XY} = \\frac{cov(X, Y)}{\\sigma X \\sigma Y} $$\n",
    "$$\\beta_1 = cov(X, Y) / Var(X) = \\rho_{XY}\\frac{\\sigma Y}{\\sigma X}$$\n",
    "$$\\beta_0 = \\bar y - \\beta_1 \\bar x$$\n"
   ]
  },
  {
   "cell_type": "markdown",
   "metadata": {},
   "source": [
    "## Gradient Descent\n",
    "\n",
    "<b>Cost</b>\n",
    "\\begin{equation}\n",
    "J(\\theta) = 1/2m \\sum_{i=1}^{m} (h(\\theta)^{(i)} - y^{(i)})^2 \n",
    "\\end{equation}\n",
    "\n",
    "<b>Gradient</b>\n",
    "\n",
    "\\begin{equation}\n",
    "\\frac{\\partial J(\\theta)}{\\partial \\theta_j} = 1/m\\sum_{i=1}^{m}(h(\\theta^{(i)} - y^{(i)}).X_j^{(i)}\n",
    "\\end{equation}\n",
    "\n",
    "<b>Gradients</b>\n",
    "\\begin{equation}\n",
    "\\theta_0: = \\theta_0 -\\alpha . (1/m .\\sum_{i=1}^{m}(h(\\theta^{(i)} - y^{(i)}).X_0^{(i)})\n",
    "\\end{equation}\n",
    "\\begin{equation}\n",
    "\\theta_1: = \\theta_1 -\\alpha . (1/m .\\sum_{i=1}^{m}(h(\\theta^{(i)} - y^{(i)}).X_1^{(i)})\n",
    "\\end{equation}\n",
    "\\begin{equation}\n",
    "\\theta_2: = \\theta_2 -\\alpha . (1/m .\\sum_{i=1}^{m}(h(\\theta^{(i)} - y^{(i)}).X_2^{(i)})\n",
    "\\end{equation}\n",
    "\n",
    "\\begin{equation}\n",
    "\\theta_j: = \\theta_j -\\alpha . (1/m .\\sum_{i=1}^{m}(h(\\theta^{(i)} - y^{(i)}).X_0^{(i)})\n",
    "\\end{equation}"
   ]
  },
  {
   "cell_type": "markdown",
   "metadata": {},
   "source": [
    "# Code Demo\n",
    "## Analytical Way"
   ]
  },
  {
   "cell_type": "code",
   "execution_count": 39,
   "metadata": {},
   "outputs": [],
   "source": [
    "import numpy as np\n",
    "import matplotlib.pyplot as plt\n",
    "plt.style.use(['ggplot'])\n",
    "# Create 1000 Random Number\n",
    "np.random.seed(42)\n",
    "\n",
    "spending = np.random.randint(1, 10, 1000)\n",
    "random_error = np.random.randn(1000)\n",
    "income = 99 * spending + 1000 + 200.0 * random_error\n",
    "data = np.column_stack((spending, random_error, income))"
   ]
  },
  {
   "cell_type": "code",
   "execution_count": 40,
   "metadata": {},
   "outputs": [
    {
     "data": {
      "image/png": "[encoded data removed]",
      "text/plain": [
       "<Figure size 432x288 with 1 Axes>"
      ]
     },
     "metadata": {},
     "output_type": "display_data"
    }
   ],
   "source": [
    "plt.scatter(data[:,0], data[:,2])\n",
    "plt.title('Scatter plot')\n",
    "plt.xlabel('spending')\n",
    "plt.ylabel('income')\n",
    "plt.show()"
   ]
  },
  {
   "cell_type": "code",
   "execution_count": 41,
   "metadata": {},
   "outputs": [],
   "source": [
    "Y = data[:,2]\n",
    "X = data[:,0]"
   ]
  },
  {
   "cell_type": "code",
   "execution_count": 42,
   "metadata": {},
   "outputs": [],
   "source": [
    "cov = np.cov(X, Y, bias=False)[0][1]\n",
    "var_x = np.cov(X, bias=False)\n",
    "beta_1 = cov/var_x\n",
    "beta_0 = np.mean(Y)-beta_1*np.mean(X)"
   ]
  },
  {
   "cell_type": "code",
   "execution_count": 43,
   "metadata": {},
   "outputs": [
    {
     "name": "stdout",
     "output_type": "stream",
     "text": [
      "Estimated Beta 0 is: 1020.3621978120855, Estimated Beta 1 is: 98.33766224185081\n"
     ]
    }
   ],
   "source": [
    "print('Estimated Beta 0 is: {}, Estimated Beta 1 is: {}'.format(beta_0,beta_1))"
   ]
  },
  {
   "cell_type": "code",
   "execution_count": 44,
   "metadata": {},
   "outputs": [
    {
     "name": "stdout",
     "output_type": "stream",
     "text": [
      "[1020.36219781   98.33766224]\n"
     ]
    }
   ],
   "source": [
    "X_b = np.c_[np.ones((1000,1)),X]\n",
    "beta_best = np.linalg.inv(X_b.T.dot(X_b)).dot(X_b.T).dot(Y)\n",
    "print(beta_best)"
   ]
  },
  {
   "cell_type": "code",
   "execution_count": 45,
   "metadata": {},
   "outputs": [
    {
     "data": {
      "text/plain": [
       "39414.873393215494"
      ]
     },
     "execution_count": 45,
     "metadata": {},
     "output_type": "execute_result"
    }
   ],
   "source": [
    "pred = beta_0 + beta_1 * X\n",
    "mse = np.matmul((Y - pred).T,(Y - pred)) / 1000\n",
    "mse\n",
    "# np.sum(np.square((Y - pred))) / 1000"
   ]
  },
  {
   "cell_type": "code",
   "execution_count": 53,
   "metadata": {},
   "outputs": [
    {
     "data": {
      "text/plain": [
       "Text(0, 0.5, '$y$')"
      ]
     },
     "execution_count": 53,
     "metadata": {},
     "output_type": "execute_result"
    },
    {
     "data": {
      "image/png": "[encoded data removed]",
      "text/plain": [
       "<Figure size 432x288 with 1 Axes>"
      ]
     },
     "metadata": {},
     "output_type": "display_data"
    }
   ],
   "source": [
    "plt.plot(X,pred,'b-')\n",
    "plt.plot(X,Y,'r.')\n",
    "plt.xlabel(\"$x_1$\", fontsize=18)\n",
    "plt.ylabel(\"$y$\", rotation=0, fontsize=18)"
   ]
  },
  {
   "cell_type": "markdown",
   "metadata": {},
   "source": [
    "## Check with Sklearn"
   ]
  },
  {
   "cell_type": "code",
   "execution_count": 47,
   "metadata": {},
   "outputs": [
    {
     "name": "stdout",
     "output_type": "stream",
     "text": [
      "[array([[98.33766224]]), array([1020.36219781])]\n"
     ]
    }
   ],
   "source": [
    "from sklearn.linear_model import LinearRegression\n",
    "import sklearn\n",
    "reg = LinearRegression().fit(X.reshape((1000,1)), Y.reshape((1000,1)))\n",
    "print ([reg.coef_, reg.intercept_])"
   ]
  },
  {
   "cell_type": "code",
   "execution_count": 48,
   "metadata": {},
   "outputs": [],
   "source": [
    "pred2 = reg.predict(X.reshape((1000,1)))"
   ]
  },
  {
   "cell_type": "code",
   "execution_count": 49,
   "metadata": {},
   "outputs": [
    {
     "data": {
      "text/plain": [
       "39414.873393215494"
      ]
     },
     "execution_count": 49,
     "metadata": {},
     "output_type": "execute_result"
    }
   ],
   "source": [
    "sklearn.metrics.mean_squared_error(Y, pred2)"
   ]
  },
  {
   "cell_type": "markdown",
   "metadata": {},
   "source": [
    "## Gradient Descent"
   ]
  },
  {
   "cell_type": "code",
   "execution_count": 51,
   "metadata": {},
   "outputs": [
    {
     "name": "stdout",
     "output_type": "stream",
     "text": [
      "Theta0:          1020.362,\n",
      "Theta1:          98.338\n",
      "Final cost/MSE:  39414.873\n"
     ]
    }
   ],
   "source": [
    "def  cal_cost(theta,X,y):\n",
    "    '''\n",
    "    \n",
    "    Calculates the cost for given X and Y. The following shows and example of a single dimensional X\n",
    "    theta = Vector of thetas \n",
    "    X     = Row of X's np.zeros((2,j))\n",
    "    y     = Actual y's np.zeros((2,1))\n",
    "    \n",
    "    where:\n",
    "        j is the no of features\n",
    "    '''\n",
    "    \n",
    "    m = len(y)\n",
    "    \n",
    "    predictions = X.dot(theta)\n",
    "    cost = (1/m) * np.sum(np.square(predictions-y))\n",
    "    return cost\n",
    "\n",
    "def gradient_descent(X,y,theta,learning_rate=0.01,iterations=100):\n",
    "    '''\n",
    "    X    = Matrix of X with added bias units\n",
    "    y    = Vector of Y\n",
    "    theta=Vector of thetas np.random.randn(j,1)\n",
    "    learning_rate \n",
    "    iterations = no of iterations\n",
    "    \n",
    "    Returns the final theta vector and array of cost history over no of iterations\n",
    "    '''\n",
    "    m = len(y)\n",
    "    cost_history = np.zeros(iterations)\n",
    "    theta_history = np.zeros((iterations,2))\n",
    "    for it in range(iterations):\n",
    "        \n",
    "        prediction = np.dot(X,theta)\n",
    "        \n",
    "        theta = theta -(1/m)*learning_rate*( X.T.dot((prediction - y)))\n",
    "        theta_history[it,:] =theta.T\n",
    "        cost_history[it]  = cal_cost(theta,X,y)\n",
    "        \n",
    "    return theta, cost_history, theta_history\n",
    "        \n",
    "    \n",
    "lr =0.01\n",
    "n_iter = 10000\n",
    "\n",
    "theta = np.random.randn(2,1)\n",
    "\n",
    "X_b = np.c_[np.ones((len(X),1)),X]\n",
    "theta,cost_history,theta_history = gradient_descent(X_b,Y.reshape(1000,1),theta,lr,n_iter)\n",
    "\n",
    "\n",
    "print('Theta0:          {:0.3f},\\nTheta1:          {:0.3f}'.format(theta[0][0],theta[1][0]))\n",
    "print('Final cost/MSE:  {:0.3f}'.format(cost_history[-1]))    "
   ]
  },
  {
   "cell_type": "code",
   "execution_count": 54,
   "metadata": {},
   "outputs": [
    {
     "data": {
      "image/png": "[encoded data removed]",
      "text/plain": [
       "<Figure size 864x576 with 1 Axes>"
      ]
     },
     "metadata": {},
     "output_type": "display_data"
    }
   ],
   "source": [
    "fig,ax = plt.subplots(figsize=(12,8))\n",
    "\n",
    "ax.set_ylabel('J(Theta)')\n",
    "ax.set_xlabel('Iterations')\n",
    "_=ax.plot(range(n_iter),cost_history,'b.')"
   ]
  },
  {
   "cell_type": "markdown",
   "metadata": {},
   "source": [
    "***\n",
    "**Reference**\n",
    "\n",
    "Learning From Data (http://amlbook.com/)\n",
    "\n",
    "Maximum Likelihood Wikipedia https://en.wikipedia.org/wiki/Maximum_likelihood_estimation\n",
    "\n",
    "Estimating simple linear regression II https://www.stat.cmu.edu/~cshalizi/mreg/15/lectures/06/lecture-06.pdf\n",
    "\n",
    "Gradient Descent in Python: https://towardsdatascience.com/gradient-descent-in-python-a0d07285742f\n",
    "\n",
    "washu_data_analytics_foundation: https://github.com/DihuiLai/washu_data_analytics_foundation"
   ]
  }
 ],
 "metadata": {
  "kernelspec": {
   "display_name": "Python 3",
   "language": "python",
   "name": "python3"
  },
  "language_info": {
   "codemirror_mode": {
    "name": "ipython",
    "version": 3
   },
   "file_extension": ".py",
   "mimetype": "text/x-python",
   "name": "python",
   "nbconvert_exporter": "python",
   "pygments_lexer": "ipython3",
   "version": "3.6.5"
  }
 },
 "nbformat": 4,
 "nbformat_minor": 2
}
